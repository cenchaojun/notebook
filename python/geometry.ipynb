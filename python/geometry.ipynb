{
 "cells": [
  {
   "cell_type": "code",
   "execution_count": 1,
   "metadata": {
    "collapsed": true
   },
   "outputs": [],
   "source": [
    "import numpy as np\n",
    "import matplotlib.pyplot as plt\n",
    "from matplotlib import patches"
   ]
  },
  {
   "cell_type": "markdown",
   "metadata": {},
   "source": [
    "## cv2.minAreaRect\n",
    "\n",
    "函数 cv2.minAreaRect() 返回一个Box2D结构 rect：（最小外接矩形的中心（x，y），（宽度，高度），旋转角度）\n",
    "\n",
    "cv2.boxPoints(rect)  获取最小外接矩形的4个顶点\n",
    "\n",
    "[minAreaRect](https://blog.csdn.net/lanyuelvyun/article/details/76614872)"
   ]
  },
  {
   "cell_type": "code",
   "execution_count": 2,
   "metadata": {
    "collapsed": true
   },
   "outputs": [],
   "source": [
    "import colorsys\n",
    "import random\n",
    "def random_colors(N, bright=True):\n",
    "    \"\"\"\n",
    "    Generate random colors.\n",
    "    To get visually distinct colors, generate them in HSV space then\n",
    "    convert to RGB.\n",
    "    \"\"\"\n",
    "    brightness = 1.0 if bright else 0.7\n",
    "    hsv = [(i / N, 1, brightness) for i in range(N)]\n",
    "    colors = list(map(lambda c: colorsys.hsv_to_rgb(*c), hsv))\n",
    "    random.shuffle(colors)\n",
    "    return colors\n",
    "colors=random_colors(10)"
   ]
  },
  {
   "cell_type": "code",
   "execution_count": 18,
   "metadata": {
    "scrolled": true
   },
   "outputs": [
    {
     "ename": "error",
     "evalue": "OpenCV(3.4.1) C:\\projects\\opencv-python\\opencv\\modules\\imgproc\\src\\convhull.cpp:137: error: (-215) total >= 0 && (depth == 5 || depth == 4) in function cv::convexHull\n",
     "output_type": "error",
     "traceback": [
      "\u001b[1;31m---------------------------------------------------------------------------\u001b[0m",
      "\u001b[1;31merror\u001b[0m                                     Traceback (most recent call last)",
      "\u001b[1;32m<ipython-input-18-90f5cf23bde3>\u001b[0m in \u001b[0;36m<module>\u001b[1;34m()\u001b[0m\n\u001b[0;32m     12\u001b[0m  \u001b[1;33m[\u001b[0m\u001b[1;36m140.9375\u001b[0m  \u001b[1;33m,\u001b[0m\u001b[1;36m119.0625\u001b[0m \u001b[1;33m]\u001b[0m\u001b[1;33m,\u001b[0m\u001b[1;33m\u001b[0m\u001b[0m\n\u001b[0;32m     13\u001b[0m  [130.78125 ,117.65625]])\n\u001b[1;32m---> 14\u001b[1;33m \u001b[0mrect\u001b[0m\u001b[1;33m=\u001b[0m\u001b[0mcv2\u001b[0m\u001b[1;33m.\u001b[0m\u001b[0mminAreaRect\u001b[0m\u001b[1;33m(\u001b[0m\u001b[0mpoly\u001b[0m\u001b[1;33m)\u001b[0m\u001b[1;33m\u001b[0m\u001b[0m\n\u001b[0m\u001b[0;32m     15\u001b[0m \u001b[0mbox\u001b[0m\u001b[1;33m=\u001b[0m\u001b[0mcv2\u001b[0m\u001b[1;33m.\u001b[0m\u001b[0mboxPoints\u001b[0m\u001b[1;33m(\u001b[0m\u001b[0mrect\u001b[0m\u001b[1;33m)\u001b[0m\u001b[1;33m\u001b[0m\u001b[0m\n",
      "\u001b[1;31merror\u001b[0m: OpenCV(3.4.1) C:\\projects\\opencv-python\\opencv\\modules\\imgproc\\src\\convhull.cpp:137: error: (-215) total >= 0 && (depth == 5 || depth == 4) in function cv::convexHull\n"
     ]
    }
   ],
   "source": [
    "import cv2\n",
    "import numpy as np\n",
    "poly=np.array([\n",
    "        [ 50, 60],\n",
    "        [ 70,  45],\n",
    "        [ 40,  10],\n",
    "        [  20.5,   10],\n",
    "[  30, 50]], dtype=np.float32)\n",
    "\n",
    "poly=np.array([[130.625 ,  114.6875 ],\n",
    " [140.78125 ,116.25   ],\n",
    " [140.9375  ,119.0625 ],\n",
    " [130.78125 ,117.65625]])\n",
    "rect=cv2.minAreaRect(poly)\n",
    "box=cv2.boxPoints(rect)"
   ]
  },
  {
   "cell_type": "code",
   "execution_count": 23,
   "metadata": {},
   "outputs": [],
   "source": [
    "import matplotlib.pyplot as plt\n",
    "from matplotlib import patches\n",
    "def show_polys(poly):\n",
    "    plt.figure(figsize=(8,8))\n",
    "    ax=plt.subplot(1,1,1)\n",
    "    max_y=np.max(poly[:,1])\n",
    "    max_x=np.max(poly[:,0])\n",
    "    ax.set_ylim(max_y,-10)\n",
    "    ax.set_xlim(-10, max_x)\n",
    "    ax.add_patch(patches.Polygon(poly,facecolor='none',edgecolor=colors[np.random.randint(10)]))\n",
    "    plt.show()"
   ]
  },
  {
   "cell_type": "code",
   "execution_count": 17,
   "metadata": {
    "scrolled": true
   },
   "outputs": [
    {
     "data": {
      "text/plain": [
       "(array([[130.625  , 114.6875 ],\n",
       "        [140.78125, 116.25   ],\n",
       "        [140.9375 , 119.0625 ],\n",
       "        [130.78125, 117.65625]], dtype=float32),\n",
       " ((135.78125, 116.87499237060547),\n",
       "  (2.919264793395996, 10.81509017944336),\n",
       "  -82.11685943603516),\n",
       " array([[140.9375  , 119.06249 ],\n",
       "        [130.22461 , 117.57917 ],\n",
       "        [130.625   , 114.68749 ],\n",
       "        [141.33789 , 116.170815]], dtype=float32))"
      ]
     },
     "execution_count": 17,
     "metadata": {},
     "output_type": "execute_result"
    }
   ],
   "source": [
    "poly,rect,box"
   ]
  },
  {
   "cell_type": "code",
   "execution_count": 125,
   "metadata": {
    "scrolled": true
   },
   "outputs": [
    {
     "data": {
      "text/plain": [
       "(array([[44.470585  , 66.88235   ],\n",
       "        [ 6.000001  , 22.        ],\n",
       "        [31.529415  ,  0.11764526],\n",
       "        [70.        , 44.999992  ]], dtype=float32),\n",
       " [array([44.470585, 66.88235 ], dtype=float32),\n",
       "  array([ 6.000001, 22.      ], dtype=float32),\n",
       "  array([31.529415  ,  0.11764526], dtype=float32),\n",
       "  array([70.      , 44.999992], dtype=float32)],\n",
       " array([[44.470585  , 66.88235   ],\n",
       "        [ 6.000001  , 22.        ],\n",
       "        [31.529415  ,  0.11764526],\n",
       "        [70.        , 44.999992  ]], dtype=float32))"
      ]
     },
     "execution_count": 125,
     "metadata": {},
     "output_type": "execute_result"
    }
   ],
   "source": [
    "box,list(box),box.copy()"
   ]
  },
  {
   "cell_type": "code",
   "execution_count": null,
   "metadata": {
    "collapsed": true
   },
   "outputs": [],
   "source": [
    "(array([[30., 50.],\n",
    "        [50., 60.],\n",
    "        [70., 45.],\n",
    "        [40., 10.],\n",
    "        [20., 10.]], dtype=float32),\n",
    " ((38.0, 33.499996185302734),\n",
    "  (33.62422180175781, 59.11354446411133),\n",
    "  -40.601295471191406))"
   ]
  },
  {
   "cell_type": "code",
   "execution_count": null,
   "metadata": {
    "collapsed": true
   },
   "outputs": [],
   "source": [
    "array([[44.470585  , 66.88235   ],\n",
    "       [ 6.000001  , 22.        ],\n",
    "       [31.529415  ,  0.11764526],\n",
    "       [70.        , 44.999992  ]], dtype=float32)"
   ]
  },
  {
   "cell_type": "markdown",
   "metadata": {},
   "source": [
    "## 点到直线距离\n"
   ]
  },
  {
   "cell_type": "code",
   "execution_count": 76,
   "metadata": {
    "collapsed": true
   },
   "outputs": [],
   "source": [
    "def point_dist_to_line(p1, p2, p3):\n",
    "    # compute the distance from p3 to p1-p2\n",
    "    return np.linalg.norm(np.cross(p1 - p3, p2 - p3)) / np.linalg.norm(p2 - p1)"
   ]
  },
  {
   "cell_type": "code",
   "execution_count": 77,
   "metadata": {},
   "outputs": [
    {
     "data": {
      "text/plain": [
       "3.4910293083941175"
      ]
     },
     "execution_count": 77,
     "metadata": {},
     "output_type": "execute_result"
    }
   ],
   "source": [
    "p1=np.array([58.64624, 66.27392   ])\n",
    "p2=np.array([72.5 ,    65.00001        ])\n",
    "p3=np.array([67, 62])\n",
    "point_dist_to_line(p1,p2,p3)"
   ]
  },
  {
   "cell_type": "code",
   "execution_count": 79,
   "metadata": {},
   "outputs": [
    {
     "data": {
      "text/plain": [
       "48.56792353760005"
      ]
     },
     "execution_count": 79,
     "metadata": {},
     "output_type": "execute_result"
    }
   ],
   "source": [
    "np.linalg.norm(np.cross(p1-p3,p2-p3))"
   ]
  },
  {
   "cell_type": "code",
   "execution_count": 64,
   "metadata": {},
   "outputs": [
    {
     "data": {
      "text/plain": [
       "993.8236216516697"
      ]
     },
     "execution_count": 64,
     "metadata": {},
     "output_type": "execute_result"
    }
   ],
   "source": [
    "np.linalg.norm(np.cross(p2 - p3, p1 - p3))"
   ]
  },
  {
   "cell_type": "code",
   "execution_count": 97,
   "metadata": {},
   "outputs": [
    {
     "data": {
      "text/plain": [
       "993.8236216516697"
      ]
     },
     "execution_count": 97,
     "metadata": {},
     "output_type": "execute_result"
    }
   ],
   "source": [
    "np.linalg.norm(np.cross(p2 - p1, p1 - p3))"
   ]
  },
  {
   "cell_type": "code",
   "execution_count": 98,
   "metadata": {},
   "outputs": [
    {
     "data": {
      "text/plain": [
       "993.8236216516697"
      ]
     },
     "execution_count": 98,
     "metadata": {},
     "output_type": "execute_result"
    }
   ],
   "source": [
    "np.linalg.norm(np.cross(p2 - p1, p2 - p3))"
   ]
  },
  {
   "cell_type": "code",
   "execution_count": 100,
   "metadata": {
    "scrolled": true
   },
   "outputs": [
    {
     "data": {
      "text/plain": [
       "1.7320508075688772"
      ]
     },
     "execution_count": 100,
     "metadata": {},
     "output_type": "execute_result"
    }
   ],
   "source": [
    "np.linalg.norm(np.array([1,1,1]))"
   ]
  },
  {
   "cell_type": "code",
   "execution_count": 101,
   "metadata": {},
   "outputs": [
    {
     "data": {
      "text/plain": [
       "array(993.82362165)"
      ]
     },
     "execution_count": 101,
     "metadata": {},
     "output_type": "execute_result"
    }
   ],
   "source": [
    "np.cross(p2 - p3, p1 - p3)"
   ]
  },
  {
   "cell_type": "markdown",
   "metadata": {},
   "source": [
    "## p1向p2移动"
   ]
  },
  {
   "cell_type": "code",
   "execution_count": 19,
   "metadata": {
    "collapsed": true
   },
   "outputs": [],
   "source": [
    "def point_shift_on_line(p1, p2, dist_shift):\n",
    "    \"\"\"\n",
    "    p1向p2移动指定距离的点\n",
    "    :param p1: 直线的第一个端点\n",
    "    :param p2: 直线的第二个端点\n",
    "    :param dist_shift: 相对于第一个点的位移距离\n",
    "    :return: 目标点\n",
    "    \"\"\"\n",
    "    # 直线距离\n",
    "    dist_line = np.linalg.norm(p1 - p2)\n",
    "    # 按两端点按比例相加，就是目标点\n",
    "    point = p1 + (p2 - p1) * dist_shift / dist_line\n",
    "    return point"
   ]
  },
  {
   "cell_type": "code",
   "execution_count": 29,
   "metadata": {
    "collapsed": true
   },
   "outputs": [],
   "source": [
    "def point_shift_on_line2(p1, p2, dist_shift):\n",
    "    \"\"\"\n",
    "    p1向p2移动指定距离的点\n",
    "    :param p1: 直线的第一个端点\n",
    "    :param p2: 直线的第二个端点\n",
    "    :param dist_shift: 相对于第一个点的位移距离\n",
    "    :return: 目标点\n",
    "    \"\"\"\n",
    "    # 直线距离\n",
    "    dist_line = np.linalg.norm(p1 - p2)\n",
    "    # 按比例相加，就是目标点\n",
    "    point = (p2 * dist_shift+p1*(dist_line-dist_shift)) / dist_line\n",
    "    return point"
   ]
  },
  {
   "cell_type": "code",
   "execution_count": 23,
   "metadata": {
    "scrolled": true
   },
   "outputs": [
    {
     "data": {
      "text/plain": [
       "array([-3.24264069, -3.24264069])"
      ]
     },
     "execution_count": 23,
     "metadata": {},
     "output_type": "execute_result"
    }
   ],
   "source": [
    "p1=np.array([1,1])\n",
    "p2=np.array([2,2])\n",
    "p3=point_shift_on_line(p1,p2,-6)\n",
    "p3"
   ]
  },
  {
   "cell_type": "code",
   "execution_count": 26,
   "metadata": {},
   "outputs": [
    {
     "data": {
      "text/plain": [
       "array([1.92928932, 1.92928932])"
      ]
     },
     "execution_count": 26,
     "metadata": {},
     "output_type": "execute_result"
    }
   ],
   "source": [
    "p4=point_shift_on_line(p2,p1,0.1)\n",
    "p4"
   ]
  },
  {
   "cell_type": "code",
   "execution_count": 48,
   "metadata": {},
   "outputs": [
    {
     "data": {
      "text/plain": [
       "(array([False, False]),\n",
       " array([-2.24264069, -2.24264069]),\n",
       " array([-2.24264069, -2.24264069]))"
      ]
     },
     "execution_count": 48,
     "metadata": {},
     "output_type": "execute_result"
    }
   ],
   "source": [
    "d=6\n",
    "x=point_shift_on_line(p2,p1,d)\n",
    "y=point_shift_on_line2(p2,p1,d)\n",
    "x==y,x,y"
   ]
  },
  {
   "cell_type": "markdown",
   "metadata": {},
   "source": [
    "## 两条直线交点"
   ]
  },
  {
   "cell_type": "code",
   "execution_count": 66,
   "metadata": {
    "collapsed": true
   },
   "outputs": [],
   "source": [
    "def fit_line(p1, p2):\n",
    "    \"\"\"\n",
    "    拟合直线\n",
    "    :param p1: [x,y]\n",
    "    :param p2: [x,y]\n",
    "    :return: 拟合方程系数\n",
    "    \"\"\"\n",
    "    x = [p1[0], p2[0]]\n",
    "    y = [p1[1], p2[1]]\n",
    "    # 拟合直线 ax+by+c = 0\n",
    "    if x[0] == x[1]:\n",
    "        return [1., 0., -x[0]]\n",
    "    else:\n",
    "        [a, c] = np.polyfit(x, y, deg=1)  # b=-1\n",
    "        return [a, -1., c]"
   ]
  },
  {
   "cell_type": "markdown",
   "metadata": {},
   "source": [
    "## 过某点直线的垂线"
   ]
  },
  {
   "cell_type": "code",
   "execution_count": 69,
   "metadata": {},
   "outputs": [
    {
     "data": {
      "text/plain": [
       "[0.9999999999999996, -1.0, 6.2803698347351e-16]"
      ]
     },
     "execution_count": 69,
     "metadata": {},
     "output_type": "execute_result"
    }
   ],
   "source": [
    "def vertical_line(p1, p2, p3):\n",
    "    \"\"\"\n",
    "    过点p3,与直线p1,p2垂直的线\n",
    "    互相垂直的线，斜率互为互倒数\n",
    "    :param p1: [x,y]\n",
    "    :param p2: [x,y]\n",
    "    :param p3: [x,y]\n",
    "    :return: 新方程的系数[na,nb,nc]\n",
    "    \"\"\"\n",
    "    line = fit_line(p1, p2)\n",
    "    a, b, c = line  # ax+by+c=0;一般b为-1\n",
    "    # 以下获取垂线的系数na,nb,nc\n",
    "    if a == 0.:  # 原方程为y=c ;新方程为x=-nc\n",
    "        na = 1.\n",
    "        nb = 0.\n",
    "    elif b == 0.:  # 原方程为x=-c;新方程为y=nc\n",
    "        na = 0.\n",
    "        nb = -1.\n",
    "    else:  # 斜率互为互倒数 a*na=-1;\n",
    "        na = -1. / a\n",
    "        nb = -1.\n",
    "    # 根据ax+by+c=0求解系数c\n",
    "    nc = -(na * p3[0] + nb * p3[1])\n",
    "    return [na, nb, nc]"
   ]
  },
  {
   "cell_type": "markdown",
   "metadata": {},
   "source": [
    "## 饶原点旋转"
   ]
  },
  {
   "cell_type": "code",
   "execution_count": 103,
   "metadata": {
    "collapsed": true,
    "scrolled": true
   },
   "outputs": [],
   "source": [
    "\n",
    "def rotate(point, angle):\n",
    "    \"\"\"\n",
    "    饶原点旋转\n",
    "    x′=xcosθ−ysinθ\n",
    "    y′=xsinθ+ycosθ\n",
    "    :param point:\n",
    "    :param angle: 旋转角度\n",
    "    :return: 旋转后的坐标\n",
    "    \"\"\"\n",
    "    x, y = point\n",
    "    new_x = x * np.cos(angle) - y * np.sin(angle)\n",
    "    new_y = x * np.sin(angle) + y * np.cos(angle)\n",
    "    return np.array([new_x, new_y])\n",
    "\n",
    "points=np.array([[-1,-1],[2,-1],[2,1],[-1,1]],np.float32)"
   ]
  },
  {
   "cell_type": "code",
   "execution_count": 107,
   "metadata": {
    "collapsed": true
   },
   "outputs": [],
   "source": [
    "def elem_cycle_shift(elements, shift):\n",
    "    \"\"\"\n",
    "    将元素位移指定长度;\n",
    "    如：elements=[1,2,3,4] shift=1 则返回[2,3,4,1]\n",
    "                       shift=2 则返回[3,4,1,2]\n",
    "                       shift=-1 则返回[4,1,2,3]\n",
    "                       shift > 0 左移，反之，右移\n",
    "    :param elements: 元素列表list of elem\n",
    "    :param shift: 位移长度\n",
    "    :return:\n",
    "    \"\"\"\n",
    "    length = len(elements)\n",
    "    return [elements[(i + shift) % length] for i in range(length)]"
   ]
  },
  {
   "cell_type": "code",
   "execution_count": 106,
   "metadata": {},
   "outputs": [
    {
     "data": {
      "text/plain": [
       "array([[-1.3570081 , -0.39815702],\n",
       "       [ 1.27573959, -1.83643364],\n",
       "       [ 2.23459066, -0.08126852],\n",
       "       [-0.39815702,  1.3570081 ]])"
      ]
     },
     "execution_count": 106,
     "metadata": {},
     "output_type": "execute_result"
    },
    {
     "data": {
      "image/png": "[encoded data removed]",
      "text/plain": [
       "<Figure size 360x360 with 1 Axes>"
      ]
     },
     "metadata": {
      "needs_background": "light"
     },
     "output_type": "display_data"
    }
   ],
   "source": [
    "new_p=[rotate(p,-0.5) for p in points]\n",
    "new_p=np.asarray(new_p)\n",
    "plt.figure(figsize=(5,5))\n",
    "ax=plt.subplot(1,1,1)\n",
    "ax.set_ylim(2,-3)\n",
    "ax.set_xlim(-2,3)\n",
    "plt.scatter(new_p[:,0],new_p[:,1])\n",
    "new_p"
   ]
  },
  {
   "cell_type": "code",
   "execution_count": 110,
   "metadata": {},
   "outputs": [
    {
     "data": {
      "text/plain": [
       "array([[-0.69605936, -1.23105701],\n",
       "       [ 2.1946152 , -0.42856053],\n",
       "       [ 1.65961754,  1.49855584],\n",
       "       [-1.23105701,  0.69605936]])"
      ]
     },
     "execution_count": 110,
     "metadata": {},
     "output_type": "execute_result"
    },
    {
     "data": {
      "image/png": "[encoded data removed]",
      "text/plain": [
       "<Figure size 360x360 with 1 Axes>"
      ]
     },
     "metadata": {
      "needs_background": "light"
     },
     "output_type": "display_data"
    }
   ],
   "source": [
    "angle=1.3\n",
    "new_p=[rotate(p,-np.pi/2) for p in points]\n",
    "new_p=np.asarray(new_p)\n",
    "new_p=[rotate(p,np.pi-angle) for p in new_p]\n",
    "new_p=np.asarray(new_p)\n",
    "new_p\n",
    "plt.figure(figsize=(5,5))\n",
    "ax=plt.subplot(1,1,1)\n",
    "ax.set_ylim(2,-3)\n",
    "ax.set_xlim(-2,3)\n",
    "plt.scatter(new_p[:,0],new_p[:,1])\n",
    "new_p"
   ]
  },
  {
   "cell_type": "code",
   "execution_count": 112,
   "metadata": {},
   "outputs": [
    {
     "data": {
      "text/plain": [
       "array([[-1.23105701,  0.69605936],\n",
       "       [-0.42856053, -2.1946152 ],\n",
       "       [ 1.49855584, -1.65961754],\n",
       "       [ 0.69605936,  1.23105701]])"
      ]
     },
     "execution_count": 112,
     "metadata": {},
     "output_type": "execute_result"
    },
    {
     "data": {
      "image/png": "[encoded data removed]",
      "text/plain": [
       "<Figure size 360x360 with 1 Axes>"
      ]
     },
     "metadata": {
      "needs_background": "light"
     },
     "output_type": "display_data"
    }
   ],
   "source": [
    "new_p=[rotate(p,-angle) for p in points]\n",
    "new_p=np.asarray(new_p)\n",
    "plt.figure(figsize=(5,5))\n",
    "ax=plt.subplot(1,1,1)\n",
    "ax.set_ylim(2,-3)\n",
    "ax.set_xlim(-2,3)\n",
    "plt.scatter(new_p[:,0],new_p[:,1])\n",
    "new_p"
   ]
  },
  {
   "cell_type": "markdown",
   "metadata": {},
   "source": [
    "## cv2.fillPoly"
   ]
  },
  {
   "cell_type": "code",
   "execution_count": 60,
   "metadata": {},
   "outputs": [
    {
     "data": {
      "image/png": "[encoded data removed]",
      "text/plain": [
       "<matplotlib.figure.Figure at 0x28a5c86f4e0>"
      ]
     },
     "metadata": {},
     "output_type": "display_data"
    }
   ],
   "source": [
    "img = np.zeros((1080, 1920), np.uint8)\n",
    "area1 = np.array([[250, 200], [300, 100], [750, 800], [100, 1000]])\n",
    "area2 = np.array([[1000, 200], [1500, 200], [1500, 400], [1000, 400]])\n",
    " \n",
    "cv2.fillPoly(img, [area1, area2], 255)  # 必须是列表\n",
    " \n",
    "plt.imshow(img)\n",
    "plt.show()"
   ]
  },
  {
   "cell_type": "code",
   "execution_count": 61,
   "metadata": {},
   "outputs": [
    {
     "ename": "error",
     "evalue": "OpenCV(3.4.1) C:\\projects\\opencv-python\\opencv\\modules\\imgproc\\src\\drawing.cpp:2407: error: (-215) p.checkVector(2, 4) >= 0 in function cv::fillPoly\n",
     "output_type": "error",
     "traceback": [
      "\u001b[1;31m---------------------------------------------------------------------------\u001b[0m",
      "\u001b[1;31merror\u001b[0m                                     Traceback (most recent call last)",
      "\u001b[1;32m<ipython-input-61-af76a14e1f96>\u001b[0m in \u001b[0;36m<module>\u001b[1;34m()\u001b[0m\n\u001b[1;32m----> 1\u001b[1;33m \u001b[0mcv2\u001b[0m\u001b[1;33m.\u001b[0m\u001b[0mfillPoly\u001b[0m\u001b[1;33m(\u001b[0m\u001b[0mimg\u001b[0m\u001b[1;33m,\u001b[0m \u001b[0marea1\u001b[0m\u001b[1;33m,\u001b[0m \u001b[1;36m255\u001b[0m\u001b[1;33m)\u001b[0m  \u001b[1;31m# 必须是列表\u001b[0m\u001b[1;33m\u001b[0m\u001b[0m\n\u001b[0m",
      "\u001b[1;31merror\u001b[0m: OpenCV(3.4.1) C:\\projects\\opencv-python\\opencv\\modules\\imgproc\\src\\drawing.cpp:2407: error: (-215) p.checkVector(2, 4) >= 0 in function cv::fillPoly\n"
     ]
    }
   ],
   "source": [
    "cv2.fillPoly(img, area1, 255)  # 必须是列表\n"
   ]
  },
  {
   "cell_type": "markdown",
   "metadata": {},
   "source": [
    "## shrink_polygon"
   ]
  },
  {
   "cell_type": "code",
   "execution_count": 32,
   "metadata": {},
   "outputs": [],
   "source": [
    "def point_shift_on_line(p1, p2, dist_shift):\n",
    "    \"\"\"\n",
    "    p1向p2移动指定距离的点\n",
    "    :param p1: 直线的第一个端点\n",
    "    :param p2: 直线的第二个端点\n",
    "    :param dist_shift: 相对于第一个点的位移距离\n",
    "    :return: 目标点\n",
    "    \"\"\"\n",
    "    # 直线距离\n",
    "    dist_line = np.linalg.norm(p1 - p2)\n",
    "    # 按比例相加，就是目标点\n",
    "    point = p1 + (p2 - p1) * dist_shift / dist_line\n",
    "    return point\n",
    "\n",
    "def shrink_poly_edge(poly, rs, edge_index):\n",
    "    \"\"\"\n",
    "    内缩四边形的某一条边\n",
    "    :param poly: [4,(xi,yi)] i<4,第一个点为左上，顺时针排列\n",
    "    :param rs: 每个顶点的R距离，R距离为顶点的短边距离\n",
    "    :param edge_index: 需要内缩的边索引号\n",
    "    :return:\n",
    "    \"\"\"\n",
    "    # 边对应的两个顶点索引号\n",
    "    idx1, idx2 = edge_index, (edge_index + 1) % 4\n",
    "    # 边对应的两个顶点\n",
    "    p1, p2 = poly[idx1], poly[idx2]\n",
    "    # 顶点对应的r\n",
    "    r1, r2 = rs[idx1], rs[idx2]\n",
    "    # 两边内缩\n",
    "    poly[idx1] = point_shift_on_line(p1, p2, r1 * 0.3)\n",
    "    poly[idx2] = point_shift_on_line(p2, p1, r2 * 0.3)\n",
    "\n",
    "def shrink_polygon(poly):\n",
    "    \"\"\"\n",
    "    内缩四边形\n",
    "    :param poly: [4,(xi,yi)] i<4,第一个点为左上，顺时针排列\n",
    "    :return:\n",
    "    \"\"\"\n",
    "    # top,right,bottom,left四边的距离\n",
    "    dist_edges = [np.linalg.norm(poly[i] - poly[(i + 1) % 4]) for i in range(4)]\n",
    "    # lt,rt,rb,lb四个顶点的ri值，ri为顶点相邻两边的短边长度\n",
    "    rs = [min(dist_edges[i], dist_edges[(i + 3) % 4]) for i in range(4)]\n",
    "\n",
    "    # 先缩长边再缩短边;对边确定长边\n",
    "    if dist_edges[0] + dist_edges[2] > dist_edges[1] + dist_edges[3]:\n",
    "        # 长边\n",
    "        shrink_poly_edge(poly, rs, 0)\n",
    "        shrink_poly_edge(poly, rs, 2)\n",
    "        # 短边\n",
    "        shrink_poly_edge(poly, rs, 1)\n",
    "        shrink_poly_edge(poly, rs, 3)\n",
    "    else:\n",
    "        # 长边\n",
    "        shrink_poly_edge(poly, rs, 1)\n",
    "        shrink_poly_edge(poly, rs, 3)\n",
    "        # 短边\n",
    "        shrink_poly_edge(poly, rs, 0)\n",
    "        shrink_poly_edge(poly, rs, 2)\n",
    "    return poly\n",
    "\n"
   ]
  },
  {
   "cell_type": "code",
   "execution_count": 51,
   "metadata": {},
   "outputs": [
    {
     "data": {
      "image/png": "[encoded data removed]",
      "text/plain": [
       "<matplotlib.figure.Figure at 0x28a5c723320>"
      ]
     },
     "metadata": {},
     "output_type": "display_data"
    }
   ],
   "source": [
    "poly=np.array([\n",
    "        [ 50, 60],\n",
    "        [ 70,  45],\n",
    "        [ 60,  10],\n",
    "        [  20.5,   10]], dtype=np.float32)\n",
    "poly=np.array([[131, 115],\n",
    " [139, 116],\n",
    " [140, 118],\n",
    " [131 ,116]])\n",
    "show_polys(poly)\n"
   ]
  },
  {
   "cell_type": "code",
   "execution_count": 47,
   "metadata": {
    "scrolled": true
   },
   "outputs": [
    {
     "name": "stderr",
     "output_type": "stream",
     "text": [
      "d:\\anaconda3\\lib\\site-packages\\ipykernel_launcher.py:12: RuntimeWarning: invalid value encountered in true_divide\n",
      "  if sys.path[0] == '':\n"
     ]
    },
    {
     "data": {
      "image/png": "[encoded data removed]",
      "text/plain": [
       "<matplotlib.figure.Figure at 0x28a5c2c7a58>"
      ]
     },
     "metadata": {},
     "output_type": "display_data"
    }
   ],
   "source": [
    "shink_poly=shrink_polygon(poly)\n",
    "show_polys(shink_poly)"
   ]
  },
  {
   "cell_type": "code",
   "execution_count": 59,
   "metadata": {},
   "outputs": [
    {
     "ename": "error",
     "evalue": "OpenCV(3.4.1) C:\\projects\\opencv-python\\opencv\\modules\\imgproc\\src\\drawing.cpp:2407: error: (-215) p.checkVector(2, 4) >= 0 in function cv::fillPoly\n",
     "output_type": "error",
     "traceback": [
      "\u001b[1;31m---------------------------------------------------------------------------\u001b[0m",
      "\u001b[1;31merror\u001b[0m                                     Traceback (most recent call last)",
      "\u001b[1;32m<ipython-input-59-459b2b59d5f3>\u001b[0m in \u001b[0;36m<module>\u001b[1;34m()\u001b[0m\n\u001b[0;32m      2\u001b[0m \u001b[0mpoly\u001b[0m\u001b[1;33m\u001b[0m\u001b[0m\n\u001b[0;32m      3\u001b[0m \u001b[0mimg\u001b[0m\u001b[1;33m=\u001b[0m\u001b[0mnp\u001b[0m\u001b[1;33m.\u001b[0m\u001b[0mzeros\u001b[0m\u001b[1;33m(\u001b[0m\u001b[1;33m(\u001b[0m\u001b[1;36m200\u001b[0m\u001b[1;33m,\u001b[0m\u001b[1;36m200\u001b[0m\u001b[1;33m)\u001b[0m\u001b[1;33m,\u001b[0m\u001b[0mnp\u001b[0m\u001b[1;33m.\u001b[0m\u001b[0muint8\u001b[0m\u001b[1;33m)\u001b[0m\u001b[1;33m\u001b[0m\u001b[0m\n\u001b[1;32m----> 4\u001b[1;33m \u001b[0mcv2\u001b[0m\u001b[1;33m.\u001b[0m\u001b[0mfillPoly\u001b[0m\u001b[1;33m(\u001b[0m\u001b[0mimg\u001b[0m\u001b[1;33m,\u001b[0m\u001b[0mpoly\u001b[0m\u001b[1;33m.\u001b[0m\u001b[0mastype\u001b[0m\u001b[1;33m(\u001b[0m\u001b[0mnp\u001b[0m\u001b[1;33m.\u001b[0m\u001b[0mint32\u001b[0m\u001b[1;33m)\u001b[0m\u001b[1;33m,\u001b[0m \u001b[1;36m1\u001b[0m\u001b[1;33m+\u001b[0m\u001b[1;36m1\u001b[0m\u001b[1;33m)\u001b[0m\u001b[1;33m\u001b[0m\u001b[0m\n\u001b[0m",
      "\u001b[1;31merror\u001b[0m: OpenCV(3.4.1) C:\\projects\\opencv-python\\opencv\\modules\\imgproc\\src\\drawing.cpp:2407: error: (-215) p.checkVector(2, 4) >= 0 in function cv::fillPoly\n"
     ]
    }
   ],
   "source": [
    "#cv2.fillPoly(np.zeros((500,500,3)),[shink_poly.astype(np.int32)], 11+1)\n",
    "poly\n",
    "img=np.zeros((200,200),np.uint8)\n",
    "cv2.fillPoly(img,poly.astype(np.int32), 1+1)"
   ]
  },
  {
   "cell_type": "code",
   "execution_count": 50,
   "metadata": {},
   "outputs": [
    {
     "data": {
      "text/plain": [
       "array([[-2147483648, -2147483648],\n",
       "       [        138,         115],\n",
       "       [        138,         116],\n",
       "       [        131,         115]])"
      ]
     },
     "execution_count": 50,
     "metadata": {},
     "output_type": "execute_result"
    }
   ],
   "source": [
    "shink_poly"
   ]
  },
  {
   "cell_type": "code",
   "execution_count": 24,
   "metadata": {},
   "outputs": [
    {
     "data": {
      "text/plain": [
       "63"
      ]
     },
     "execution_count": 24,
     "metadata": {},
     "output_type": "execute_result"
    }
   ],
   "source": [
    "d=dict(enumerate(indices))\n",
    "d[1]"
   ]
  },
  {
   "cell_type": "code",
   "execution_count": 26,
   "metadata": {},
   "outputs": [
    {
     "data": {
      "text/plain": [
       "array([[ 0.20550491,  0.30939501,  0.07872518, -0.39141341, -0.28451382,\n",
       "        -0.48722777, -0.28600678,  0.2120979 , -0.01792871, -0.50714347],\n",
       "       [-0.4211049 ,  0.24483196,  0.13176833, -0.15748922,  0.38168553,\n",
       "         0.6404108 ,  0.3352909 , -0.20148743,  0.00652097,  0.10813277],\n",
       "       [ 0.20280041,  0.59457096,  0.08124696,  0.05776292, -0.28184969,\n",
       "         0.51379575, -0.14753363,  0.21702895, -0.38511215, -0.18658863]])"
      ]
     },
     "execution_count": 26,
     "metadata": {},
     "output_type": "execute_result"
    }
   ],
   "source": [
    "import keras\n",
    "x=np.random.randn(3,10)\n",
    "keras.utils.np_utils.normalize(x)"
   ]
  },
  {
   "cell_type": "code",
   "execution_count": 30,
   "metadata": {
    "scrolled": true
   },
   "outputs": [
    {
     "data": {
      "text/plain": [
       "array([[-0.03097932,  0.6996381 ,  0.18667619, -0.34411591, -0.09274955,\n",
       "         0.37221164, -0.05212543,  0.12860396, -0.21664815, -0.37808281]])"
      ]
     },
     "execution_count": 30,
     "metadata": {},
     "output_type": "execute_result"
    }
   ],
   "source": [
    "keras.utils.np_utils.normalize(np.mean(x,axis=0))"
   ]
  },
  {
   "cell_type": "code",
   "execution_count": 31,
   "metadata": {},
   "outputs": [
    {
     "data": {
      "text/plain": [
       "array([-0.04084888,  0.92253242,  0.24614845, -0.45374613, -0.12229818,\n",
       "        0.49079275, -0.06873182,  0.16957528, -0.28566904, -0.49853439])"
      ]
     },
     "execution_count": 31,
     "metadata": {},
     "output_type": "execute_result"
    }
   ],
   "source": [
    "np.mean(x,axis=0)"
   ]
  },
  {
   "cell_type": "code",
   "execution_count": 78,
   "metadata": {},
   "outputs": [
    {
     "data": {
      "text/plain": [
       "4"
      ]
     },
     "execution_count": 78,
     "metadata": {},
     "output_type": "execute_result"
    }
   ],
   "source": [
    "np.random.choice(5)"
   ]
  },
  {
   "cell_type": "code",
   "execution_count": 81,
   "metadata": {
    "scrolled": true
   },
   "outputs": [
    {
     "name": "stdout",
     "output_type": "stream",
     "text": [
      "yes\n"
     ]
    },
    {
     "data": {
      "text/plain": [
       "{1, 3, 4}"
      ]
     },
     "execution_count": 81,
     "metadata": {},
     "output_type": "execute_result"
    }
   ],
   "source": [
    "a=set([1,3])\n",
    "a.add(4)\n",
    "if 1 in a:\n",
    "    print('yes')\n",
    "a"
   ]
  },
  {
   "cell_type": "code",
   "execution_count": 88,
   "metadata": {
    "scrolled": true
   },
   "outputs": [
    {
     "data": {
      "text/plain": [
       "['a', 'a', 'a']"
      ]
     },
     "execution_count": 88,
     "metadata": {},
     "output_type": "execute_result"
    }
   ],
   "source": [
    "[a for a,b in [['a','b'],['a','b'],['a','b']]]"
   ]
  },
  {
   "cell_type": "code",
   "execution_count": 3,
   "metadata": {},
   "outputs": [
    {
     "name": "stdout",
     "output_type": "stream",
     "text": [
      "0 0\n",
      "1 1\n",
      "2 2\n",
      "3 3\n",
      "4 4\n"
     ]
    }
   ],
   "source": [
    "x=np.arange(5)\n",
    "y=np.arange(5)\n",
    "for a,b in zip (x,y):\n",
    "    print(a,b)"
   ]
  },
  {
   "cell_type": "code",
   "execution_count": 4,
   "metadata": {},
   "outputs": [
    {
     "data": {
      "text/plain": [
       "(3, 5, 6, 4)"
      ]
     },
     "execution_count": 4,
     "metadata": {},
     "output_type": "execute_result"
    }
   ],
   "source": [
    "a=np.ones(shape=(5,6,4))\n",
    "b=np.tile(a,(3,1,1,1))\n",
    "b.shape"
   ]
  },
  {
   "cell_type": "code",
   "execution_count": 32,
   "metadata": {},
   "outputs": [
    {
     "data": {
      "text/plain": [
       "2"
      ]
     },
     "execution_count": 32,
     "metadata": {},
     "output_type": "execute_result"
    }
   ],
   "source": [
    "np.random.randint(5)"
   ]
  },
  {
   "cell_type": "code",
   "execution_count": 3,
   "metadata": {
    "collapsed": true
   },
   "outputs": [],
   "source": [
    "a=[]\n",
    "for x in a:\n",
    "    print(x)"
   ]
  },
  {
   "cell_type": "code",
   "execution_count": 7,
   "metadata": {},
   "outputs": [
    {
     "data": {
      "text/plain": [
       "array([3, 4])"
      ]
     },
     "execution_count": 7,
     "metadata": {},
     "output_type": "execute_result"
    }
   ],
   "source": [
    "import numpy as np\n",
    "np.arange(3,5)"
   ]
  },
  {
   "cell_type": "code",
   "execution_count": 1,
   "metadata": {},
   "outputs": [
    {
     "data": {
      "text/plain": [
       "'img_3.'"
      ]
     },
     "execution_count": 1,
     "metadata": {},
     "output_type": "execute_result"
    }
   ],
   "source": [
    "x='gt_img_3.txt'\n",
    "x[3:-3]"
   ]
  },
  {
   "cell_type": "code",
   "execution_count": 2,
   "metadata": {
    "scrolled": true
   },
   "outputs": [
    {
     "data": {
      "text/plain": [
       "54"
      ]
     },
     "execution_count": 2,
     "metadata": {},
     "output_type": "execute_result"
    }
   ],
   "source": [
    "3**3 *2"
   ]
  },
  {
   "cell_type": "code",
   "execution_count": 3,
   "metadata": {},
   "outputs": [
    {
     "data": {
      "text/plain": [
       "54"
      ]
     },
     "execution_count": 3,
     "metadata": {},
     "output_type": "execute_result"
    }
   ],
   "source": [
    "2*3**3"
   ]
  },
  {
   "cell_type": "code",
   "execution_count": 84,
   "metadata": {},
   "outputs": [
    {
     "data": {
      "text/plain": [
       "45.0"
      ]
     },
     "execution_count": 84,
     "metadata": {},
     "output_type": "execute_result"
    }
   ],
   "source": [
    "720/16"
   ]
  }
 ],
 "metadata": {
  "kernelspec": {
   "display_name": "Python 3",
   "language": "python",
   "name": "python3"
  },
  "language_info": {
   "codemirror_mode": {
    "name": "ipython",
    "version": 3
   },
   "file_extension": ".py",
   "mimetype": "text/x-python",
   "name": "python",
   "nbconvert_exporter": "python",
   "pygments_lexer": "ipython3",
   "version": "3.6.4"
  },
  "toc": {
   "base_numbering": 1,
   "nav_menu": {},
   "number_sections": true,
   "sideBar": true,
   "skip_h1_title": false,
   "title_cell": "Table of Contents",
   "title_sidebar": "Contents",
   "toc_cell": false,
   "toc_position": {},
   "toc_section_display": true,
   "toc_window_display": true
  }
 },
 "nbformat": 4,
 "nbformat_minor": 2
}
