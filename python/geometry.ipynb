{
 "cells": [
  {
   "cell_type": "code",
   "execution_count": 1,
   "metadata": {},
   "outputs": [],
   "source": [
    "import numpy as np\n",
    "import matplotlib.pyplot as plt\n",
    "from matplotlib import patches"
   ]
  },
  {
   "cell_type": "markdown",
   "metadata": {},
   "source": [
    "## cv2.minAreaRect\n",
    "\n",
    "函数 cv2.minAreaRect() 返回一个Box2D结构 rect：（最小外接矩形的中心（x，y），（宽度，高度），旋转角度）\n",
    "\n",
    "cv2.boxPoints(rect)  获取最小外接矩形的4个顶点\n",
    "\n",
    "[minAreaRect](https://blog.csdn.net/lanyuelvyun/article/details/76614872)"
   ]
  },
  {
   "cell_type": "code",
   "execution_count": 113,
   "metadata": {},
   "outputs": [],
   "source": [
    "import colorsys\n",
    "import random\n",
    "def random_colors(N, bright=True):\n",
    "    \"\"\"\n",
    "    Generate random colors.\n",
    "    To get visually distinct colors, generate them in HSV space then\n",
    "    convert to RGB.\n",
    "    \"\"\"\n",
    "    brightness = 1.0 if bright else 0.7\n",
    "    hsv = [(i / N, 1, brightness) for i in range(N)]\n",
    "    colors = list(map(lambda c: colorsys.hsv_to_rgb(*c), hsv))\n",
    "    random.shuffle(colors)\n",
    "    return colors\n",
    "colors=random_colors(10)"
   ]
  },
  {
   "cell_type": "code",
   "execution_count": 120,
   "metadata": {
    "scrolled": true
   },
   "outputs": [],
   "source": [
    "import cv2\n",
    "import numpy as np\n",
    "poly=np.array([\n",
    "        [ 50, 60],\n",
    "        [ 70,  45],\n",
    "        [ 40,  10],\n",
    "        [  20,   10],\n",
    "[  30, 50]], dtype=np.float32)\n",
    "\n",
    "# poly=np.array([[ 10, 100],\n",
    "#         [ 70,  100],\n",
    "#         [ 70,  10],\n",
    "#         [  10,   10]], dtype=np.float32)\n",
    "rect=cv2.minAreaRect(poly)\n",
    "box=cv2.boxPoints(rect)"
   ]
  },
  {
   "cell_type": "code",
   "execution_count": 121,
   "metadata": {},
   "outputs": [
    {
     "data": {
      "image/png": "[encoded data removed]",
      "text/plain": [
       "<Figure size 576x576 with 1 Axes>"
      ]
     },
     "metadata": {
      "needs_background": "light"
     },
     "output_type": "display_data"
    }
   ],
   "source": [
    "import matplotlib.pyplot as plt\n",
    "from matplotlib import patches\n",
    "plt.figure(figsize=(8,8))\n",
    "ax=plt.subplot(1,1,1)\n",
    "ax.set_ylim(100 + 50,-10)\n",
    "ax.set_xlim(-10, 100 + 50)\n",
    "ax.add_patch(patches.Polygon(box,facecolor='none',edgecolor=colors[1]))\n",
    "ax.add_patch(patches.Polygon(poly,facecolor='none',edgecolor=colors[2]))\n",
    "plt.show()"
   ]
  },
  {
   "cell_type": "code",
   "execution_count": 122,
   "metadata": {
    "scrolled": true
   },
   "outputs": [
    {
     "data": {
      "text/plain": [
       "(array([[50., 60.],\n",
       "        [70., 45.],\n",
       "        [40., 10.],\n",
       "        [20., 10.],\n",
       "        [30., 50.]], dtype=float32),\n",
       " ((38.0, 33.499996185302734),\n",
       "  (33.62422180175781, 59.11354446411133),\n",
       "  -40.601295471191406))"
      ]
     },
     "execution_count": 122,
     "metadata": {},
     "output_type": "execute_result"
    }
   ],
   "source": [
    "poly,rect"
   ]
  },
  {
   "cell_type": "code",
   "execution_count": 125,
   "metadata": {
    "scrolled": true
   },
   "outputs": [
    {
     "data": {
      "text/plain": [
       "(array([[44.470585  , 66.88235   ],\n",
       "        [ 6.000001  , 22.        ],\n",
       "        [31.529415  ,  0.11764526],\n",
       "        [70.        , 44.999992  ]], dtype=float32),\n",
       " [array([44.470585, 66.88235 ], dtype=float32),\n",
       "  array([ 6.000001, 22.      ], dtype=float32),\n",
       "  array([31.529415  ,  0.11764526], dtype=float32),\n",
       "  array([70.      , 44.999992], dtype=float32)],\n",
       " array([[44.470585  , 66.88235   ],\n",
       "        [ 6.000001  , 22.        ],\n",
       "        [31.529415  ,  0.11764526],\n",
       "        [70.        , 44.999992  ]], dtype=float32))"
      ]
     },
     "execution_count": 125,
     "metadata": {},
     "output_type": "execute_result"
    }
   ],
   "source": [
    "box,list(box),box.copy()"
   ]
  },
  {
   "cell_type": "code",
   "execution_count": null,
   "metadata": {},
   "outputs": [],
   "source": [
    "(array([[30., 50.],\n",
    "        [50., 60.],\n",
    "        [70., 45.],\n",
    "        [40., 10.],\n",
    "        [20., 10.]], dtype=float32),\n",
    " ((38.0, 33.499996185302734),\n",
    "  (33.62422180175781, 59.11354446411133),\n",
    "  -40.601295471191406))"
   ]
  },
  {
   "cell_type": "code",
   "execution_count": null,
   "metadata": {},
   "outputs": [],
   "source": [
    "array([[44.470585  , 66.88235   ],\n",
    "       [ 6.000001  , 22.        ],\n",
    "       [31.529415  ,  0.11764526],\n",
    "       [70.        , 44.999992  ]], dtype=float32)"
   ]
  },
  {
   "cell_type": "markdown",
   "metadata": {},
   "source": [
    "## 点到直线距离\n"
   ]
  },
  {
   "cell_type": "code",
   "execution_count": 79,
   "metadata": {},
   "outputs": [],
   "source": [
    "def point_dist_to_line(p1, p2, p3):\n",
    "    # compute the distance from p3 to p1-p2\n",
    "    return np.linalg.norm(np.cross(p2 - p1, p1 - p3)) / np.linalg.norm(p2 - p1)"
   ]
  },
  {
   "cell_type": "code",
   "execution_count": 83,
   "metadata": {},
   "outputs": [
    {
     "data": {
      "text/plain": [
       "59.113545135589916"
      ]
     },
     "execution_count": 83,
     "metadata": {},
     "output_type": "execute_result"
    }
   ],
   "source": [
    "p1=np.array([44.470585  , 66.88235   ])\n",
    "p2=np.array([ 70.        , 44.999992        ])\n",
    "p3=np.array([38.0, 33.499996185302734])\n",
    "point_dist_to_line(p1,p2,p3)*2"
   ]
  },
  {
   "cell_type": "code",
   "execution_count": 96,
   "metadata": {},
   "outputs": [
    {
     "data": {
      "text/plain": [
       "993.8236216516697"
      ]
     },
     "execution_count": 96,
     "metadata": {},
     "output_type": "execute_result"
    }
   ],
   "source": [
    "np.linalg.norm(np.cross(p2 - p3, p1 - p3))"
   ]
  },
  {
   "cell_type": "code",
   "execution_count": 97,
   "metadata": {},
   "outputs": [
    {
     "data": {
      "text/plain": [
       "993.8236216516697"
      ]
     },
     "execution_count": 97,
     "metadata": {},
     "output_type": "execute_result"
    }
   ],
   "source": [
    "np.linalg.norm(np.cross(p2 - p1, p1 - p3))"
   ]
  },
  {
   "cell_type": "code",
   "execution_count": 98,
   "metadata": {},
   "outputs": [
    {
     "data": {
      "text/plain": [
       "993.8236216516697"
      ]
     },
     "execution_count": 98,
     "metadata": {},
     "output_type": "execute_result"
    }
   ],
   "source": [
    "np.linalg.norm(np.cross(p2 - p1, p2 - p3))"
   ]
  },
  {
   "cell_type": "code",
   "execution_count": 100,
   "metadata": {
    "scrolled": true
   },
   "outputs": [
    {
     "data": {
      "text/plain": [
       "1.7320508075688772"
      ]
     },
     "execution_count": 100,
     "metadata": {},
     "output_type": "execute_result"
    }
   ],
   "source": [
    "np.linalg.norm(np.array([1,1,1]))"
   ]
  },
  {
   "cell_type": "code",
   "execution_count": 101,
   "metadata": {},
   "outputs": [
    {
     "data": {
      "text/plain": [
       "array(993.82362165)"
      ]
     },
     "execution_count": 101,
     "metadata": {},
     "output_type": "execute_result"
    }
   ],
   "source": [
    "np.cross(p2 - p3, p1 - p3)"
   ]
  },
  {
   "cell_type": "markdown",
   "metadata": {},
   "source": [
    "## p1向p2移动"
   ]
  },
  {
   "cell_type": "code",
   "execution_count": 19,
   "metadata": {},
   "outputs": [],
   "source": [
    "def point_shift_on_line(p1, p2, dist_shift):\n",
    "    \"\"\"\n",
    "    p1向p2移动指定距离的点\n",
    "    :param p1: 直线的第一个端点\n",
    "    :param p2: 直线的第二个端点\n",
    "    :param dist_shift: 相对于第一个点的位移距离\n",
    "    :return: 目标点\n",
    "    \"\"\"\n",
    "    # 直线距离\n",
    "    dist_line = np.linalg.norm(p1 - p2)\n",
    "    # 按两端点按比例相加，就是目标点\n",
    "    point = p1 + (p2 - p1) * dist_shift / dist_line\n",
    "    return point"
   ]
  },
  {
   "cell_type": "code",
   "execution_count": 29,
   "metadata": {},
   "outputs": [],
   "source": [
    "def point_shift_on_line2(p1, p2, dist_shift):\n",
    "    \"\"\"\n",
    "    p1向p2移动指定距离的点\n",
    "    :param p1: 直线的第一个端点\n",
    "    :param p2: 直线的第二个端点\n",
    "    :param dist_shift: 相对于第一个点的位移距离\n",
    "    :return: 目标点\n",
    "    \"\"\"\n",
    "    # 直线距离\n",
    "    dist_line = np.linalg.norm(p1 - p2)\n",
    "    # 按比例相加，就是目标点\n",
    "    point = (p2 * dist_shift+p1*(dist_line-dist_shift)) / dist_line\n",
    "    return point"
   ]
  },
  {
   "cell_type": "code",
   "execution_count": 23,
   "metadata": {
    "scrolled": true
   },
   "outputs": [
    {
     "data": {
      "text/plain": [
       "array([-3.24264069, -3.24264069])"
      ]
     },
     "execution_count": 23,
     "metadata": {},
     "output_type": "execute_result"
    }
   ],
   "source": [
    "p1=np.array([1,1])\n",
    "p2=np.array([2,2])\n",
    "p3=point_shift_on_line(p1,p2,-6)\n",
    "p3"
   ]
  },
  {
   "cell_type": "code",
   "execution_count": 26,
   "metadata": {},
   "outputs": [
    {
     "data": {
      "text/plain": [
       "array([1.92928932, 1.92928932])"
      ]
     },
     "execution_count": 26,
     "metadata": {},
     "output_type": "execute_result"
    }
   ],
   "source": [
    "p4=point_shift_on_line(p2,p1,0.1)\n",
    "p4"
   ]
  },
  {
   "cell_type": "code",
   "execution_count": 48,
   "metadata": {},
   "outputs": [
    {
     "data": {
      "text/plain": [
       "(array([False, False]),\n",
       " array([-2.24264069, -2.24264069]),\n",
       " array([-2.24264069, -2.24264069]))"
      ]
     },
     "execution_count": 48,
     "metadata": {},
     "output_type": "execute_result"
    }
   ],
   "source": [
    "d=6\n",
    "x=point_shift_on_line(p2,p1,d)\n",
    "y=point_shift_on_line2(p2,p1,d)\n",
    "x==y,x,y"
   ]
  },
  {
   "cell_type": "markdown",
   "metadata": {},
   "source": [
    "## 两条直线交点"
   ]
  },
  {
   "cell_type": "code",
   "execution_count": 66,
   "metadata": {},
   "outputs": [],
   "source": [
    "def fit_line(p1, p2):\n",
    "    \"\"\"\n",
    "    拟合直线\n",
    "    :param p1: [x,y]\n",
    "    :param p2: [x,y]\n",
    "    :return: 拟合方程系数\n",
    "    \"\"\"\n",
    "    x = [p1[0], p2[0]]\n",
    "    y = [p1[1], p2[1]]\n",
    "    # 拟合直线 ax+by+c = 0\n",
    "    if x[0] == x[1]:\n",
    "        return [1., 0., -x[0]]\n",
    "    else:\n",
    "        [a, c] = np.polyfit(x, y, deg=1)  # b=-1\n",
    "        return [a, -1., c]"
   ]
  },
  {
   "cell_type": "markdown",
   "metadata": {},
   "source": [
    "## 过某点直线的垂线"
   ]
  },
  {
   "cell_type": "code",
   "execution_count": 69,
   "metadata": {},
   "outputs": [
    {
     "data": {
      "text/plain": [
       "[0.9999999999999996, -1.0, 6.2803698347351e-16]"
      ]
     },
     "execution_count": 69,
     "metadata": {},
     "output_type": "execute_result"
    }
   ],
   "source": [
    "def vertical_line(p1, p2, p3):\n",
    "    \"\"\"\n",
    "    过点p3,与直线p1,p2垂直的线\n",
    "    互相垂直的线，斜率互为互倒数\n",
    "    :param p1: [x,y]\n",
    "    :param p2: [x,y]\n",
    "    :param p3: [x,y]\n",
    "    :return: 新方程的系数[na,nb,nc]\n",
    "    \"\"\"\n",
    "    line = fit_line(p1, p2)\n",
    "    a, b, c = line  # ax+by+c=0;一般b为-1\n",
    "    # 以下获取垂线的系数na,nb,nc\n",
    "    if a == 0.:  # 原方程为y=c ;新方程为x=-nc\n",
    "        na = 1.\n",
    "        nb = 0.\n",
    "    elif b == 0.:  # 原方程为x=-c;新方程为y=nc\n",
    "        na = 0.\n",
    "        nb = -1.\n",
    "    else:  # 斜率互为互倒数 a*na=-1;\n",
    "        na = -1. / a\n",
    "        nb = -1.\n",
    "    # 根据ax+by+c=0求解系数c\n",
    "    nc = -(na * p3[0] + nb * p3[1])\n",
    "    return [na, nb, nc]"
   ]
  },
  {
   "cell_type": "markdown",
   "metadata": {},
   "source": [
    "## 饶原点旋转"
   ]
  },
  {
   "cell_type": "code",
   "execution_count": 103,
   "metadata": {
    "scrolled": true
   },
   "outputs": [],
   "source": [
    "\n",
    "def rotate(point, angle):\n",
    "    \"\"\"\n",
    "    饶原点旋转\n",
    "    x′=xcosθ−ysinθ\n",
    "    y′=xsinθ+ycosθ\n",
    "    :param point:\n",
    "    :param angle: 旋转角度\n",
    "    :return: 旋转后的坐标\n",
    "    \"\"\"\n",
    "    x, y = point\n",
    "    new_x = x * np.cos(angle) - y * np.sin(angle)\n",
    "    new_y = x * np.sin(angle) + y * np.cos(angle)\n",
    "    return np.array([new_x, new_y])\n",
    "\n",
    "points=np.array([[-1,-1],[2,-1],[2,1],[-1,1]],np.float32)"
   ]
  },
  {
   "cell_type": "code",
   "execution_count": 107,
   "metadata": {},
   "outputs": [],
   "source": [
    "def elem_cycle_shift(elements, shift):\n",
    "    \"\"\"\n",
    "    将元素位移指定长度;\n",
    "    如：elements=[1,2,3,4] shift=1 则返回[2,3,4,1]\n",
    "                       shift=2 则返回[3,4,1,2]\n",
    "                       shift=-1 则返回[4,1,2,3]\n",
    "                       shift > 0 左移，反之，右移\n",
    "    :param elements: 元素列表list of elem\n",
    "    :param shift: 位移长度\n",
    "    :return:\n",
    "    \"\"\"\n",
    "    length = len(elements)\n",
    "    return [elements[(i + shift) % length] for i in range(length)]"
   ]
  },
  {
   "cell_type": "code",
   "execution_count": 106,
   "metadata": {},
   "outputs": [
    {
     "data": {
      "text/plain": [
       "array([[-1.3570081 , -0.39815702],\n",
       "       [ 1.27573959, -1.83643364],\n",
       "       [ 2.23459066, -0.08126852],\n",
       "       [-0.39815702,  1.3570081 ]])"
      ]
     },
     "execution_count": 106,
     "metadata": {},
     "output_type": "execute_result"
    },
    {
     "data": {
      "image/png": "[encoded data removed]",
      "text/plain": [
       "<Figure size 360x360 with 1 Axes>"
      ]
     },
     "metadata": {
      "needs_background": "light"
     },
     "output_type": "display_data"
    }
   ],
   "source": [
    "new_p=[rotate(p,-0.5) for p in points]\n",
    "new_p=np.asarray(new_p)\n",
    "plt.figure(figsize=(5,5))\n",
    "ax=plt.subplot(1,1,1)\n",
    "ax.set_ylim(2,-3)\n",
    "ax.set_xlim(-2,3)\n",
    "plt.scatter(new_p[:,0],new_p[:,1])\n",
    "new_p"
   ]
  },
  {
   "cell_type": "code",
   "execution_count": 110,
   "metadata": {},
   "outputs": [
    {
     "data": {
      "text/plain": [
       "array([[-0.69605936, -1.23105701],\n",
       "       [ 2.1946152 , -0.42856053],\n",
       "       [ 1.65961754,  1.49855584],\n",
       "       [-1.23105701,  0.69605936]])"
      ]
     },
     "execution_count": 110,
     "metadata": {},
     "output_type": "execute_result"
    },
    {
     "data": {
      "image/png": "[encoded data removed]",
      "text/plain": [
       "<Figure size 360x360 with 1 Axes>"
      ]
     },
     "metadata": {
      "needs_background": "light"
     },
     "output_type": "display_data"
    }
   ],
   "source": [
    "angle=1.3\n",
    "new_p=[rotate(p,-np.pi/2) for p in points]\n",
    "new_p=np.asarray(new_p)\n",
    "new_p=[rotate(p,np.pi-angle) for p in new_p]\n",
    "new_p=np.asarray(new_p)\n",
    "new_p\n",
    "plt.figure(figsize=(5,5))\n",
    "ax=plt.subplot(1,1,1)\n",
    "ax.set_ylim(2,-3)\n",
    "ax.set_xlim(-2,3)\n",
    "plt.scatter(new_p[:,0],new_p[:,1])\n",
    "new_p"
   ]
  },
  {
   "cell_type": "code",
   "execution_count": 112,
   "metadata": {},
   "outputs": [
    {
     "data": {
      "text/plain": [
       "array([[-1.23105701,  0.69605936],\n",
       "       [-0.42856053, -2.1946152 ],\n",
       "       [ 1.49855584, -1.65961754],\n",
       "       [ 0.69605936,  1.23105701]])"
      ]
     },
     "execution_count": 112,
     "metadata": {},
     "output_type": "execute_result"
    },
    {
     "data": {
      "image/png": "[encoded data removed]",
      "text/plain": [
       "<Figure size 360x360 with 1 Axes>"
      ]
     },
     "metadata": {
      "needs_background": "light"
     },
     "output_type": "display_data"
    }
   ],
   "source": [
    "new_p=[rotate(p,-angle) for p in points]\n",
    "new_p=np.asarray(new_p)\n",
    "plt.figure(figsize=(5,5))\n",
    "ax=plt.subplot(1,1,1)\n",
    "ax.set_ylim(2,-3)\n",
    "ax.set_xlim(-2,3)\n",
    "plt.scatter(new_p[:,0],new_p[:,1])\n",
    "new_p"
   ]
  },
  {
   "cell_type": "markdown",
   "metadata": {},
   "source": [
    "## cv2.fillPoly"
   ]
  },
  {
   "cell_type": "code",
   "execution_count": 131,
   "metadata": {},
   "outputs": [
    {
     "ename": "error",
     "evalue": "OpenCV(4.0.0) /Users/travis/build/skvark/opencv-python/opencv/modules/imgproc/src/drawing.cpp:2403: error: (-215:Assertion failed) p.checkVector(2, CV_32S) >= 0 in function 'fillPoly'\n",
     "output_type": "error",
     "traceback": [
      "\u001b[0;31m---------------------------------------------------------------------------\u001b[0m",
      "\u001b[0;31merror\u001b[0m                                     Traceback (most recent call last)",
      "\u001b[0;32m<ipython-input-131-00bdc7597a46>\u001b[0m in \u001b[0;36m<module>\u001b[0;34m\u001b[0m\n\u001b[1;32m      3\u001b[0m \u001b[0marea2\u001b[0m \u001b[0;34m=\u001b[0m \u001b[0mnp\u001b[0m\u001b[0;34m.\u001b[0m\u001b[0marray\u001b[0m\u001b[0;34m(\u001b[0m\u001b[0;34m[\u001b[0m\u001b[0;34m[\u001b[0m\u001b[0;36m1000\u001b[0m\u001b[0;34m,\u001b[0m \u001b[0;36m200\u001b[0m\u001b[0;34m]\u001b[0m\u001b[0;34m,\u001b[0m \u001b[0;34m[\u001b[0m\u001b[0;36m1500\u001b[0m\u001b[0;34m,\u001b[0m \u001b[0;36m200\u001b[0m\u001b[0;34m]\u001b[0m\u001b[0;34m,\u001b[0m \u001b[0;34m[\u001b[0m\u001b[0;36m1500\u001b[0m\u001b[0;34m,\u001b[0m \u001b[0;36m400\u001b[0m\u001b[0;34m]\u001b[0m\u001b[0;34m,\u001b[0m \u001b[0;34m[\u001b[0m\u001b[0;36m1000\u001b[0m\u001b[0;34m,\u001b[0m \u001b[0;36m400\u001b[0m\u001b[0;34m]\u001b[0m\u001b[0;34m]\u001b[0m\u001b[0;34m)\u001b[0m\u001b[0;34m\u001b[0m\u001b[0;34m\u001b[0m\u001b[0m\n\u001b[1;32m      4\u001b[0m \u001b[0;34m\u001b[0m\u001b[0m\n\u001b[0;32m----> 5\u001b[0;31m \u001b[0mcv2\u001b[0m\u001b[0;34m.\u001b[0m\u001b[0mfillPoly\u001b[0m\u001b[0;34m(\u001b[0m\u001b[0mimg\u001b[0m\u001b[0;34m,\u001b[0m \u001b[0;34m[\u001b[0m\u001b[0marea1\u001b[0m\u001b[0;34m,\u001b[0m \u001b[0marea2\u001b[0m\u001b[0;34m]\u001b[0m\u001b[0;34m,\u001b[0m \u001b[0;36m255\u001b[0m\u001b[0;34m)\u001b[0m\u001b[0;34m\u001b[0m\u001b[0;34m\u001b[0m\u001b[0m\n\u001b[0m\u001b[1;32m      6\u001b[0m \u001b[0;34m\u001b[0m\u001b[0m\n\u001b[1;32m      7\u001b[0m \u001b[0mplt\u001b[0m\u001b[0;34m.\u001b[0m\u001b[0mimshow\u001b[0m\u001b[0;34m(\u001b[0m\u001b[0mimg\u001b[0m\u001b[0;34m)\u001b[0m\u001b[0;34m\u001b[0m\u001b[0;34m\u001b[0m\u001b[0m\n",
      "\u001b[0;31merror\u001b[0m: OpenCV(4.0.0) /Users/travis/build/skvark/opencv-python/opencv/modules/imgproc/src/drawing.cpp:2403: error: (-215:Assertion failed) p.checkVector(2, CV_32S) >= 0 in function 'fillPoly'\n"
     ]
    }
   ],
   "source": [
    "img = np.zeros((1080, 1920), np.uint8)\n",
    "area1 = np.array([[250.1, 200], [300, 100], [750, 800], [100, 1000]])\n",
    "area2 = np.array([[1000, 200], [1500, 200], [1500, 400], [1000, 400]])\n",
    " \n",
    "cv2.fillPoly(img, [area1, area2], 255)\n",
    " \n",
    "plt.imshow(img)\n",
    "plt.show()"
   ]
  },
  {
   "cell_type": "code",
   "execution_count": 130,
   "metadata": {},
   "outputs": [
    {
     "data": {
      "text/plain": [
       "array([  0, 255], dtype=uint8)"
      ]
     },
     "execution_count": 130,
     "metadata": {},
     "output_type": "execute_result"
    }
   ],
   "source": [
    "np.unique(img)"
   ]
  },
  {
   "cell_type": "code",
   "execution_count": 135,
   "metadata": {},
   "outputs": [
    {
     "data": {
      "text/plain": [
       "[(1, 3), (3, 2), (3, 1)]"
      ]
     },
     "execution_count": 135,
     "metadata": {},
     "output_type": "execute_result"
    }
   ],
   "source": [
    "list(zip(*[(1,3,3),(3,2,1)]))"
   ]
  },
  {
   "cell_type": "code",
   "execution_count": 16,
   "metadata": {
    "collapsed": true
   },
   "outputs": [],
   "source": [
    "indices = np.arange(100)\n",
    "np.random.shuffle(indicesza/z                 ;x''''''ss)"
   ]
  },
  {
   "cell_type": "code",
   "execution_count": 19,
   "metadata": {},
   "outputs": [
    {
     "data": {
      "text/plain": [
       "array([32, 63, 47, 84, 27, 37, 33, 99, 50,  6, 35, 91, 17, 81,  4, 45, 71,\n",
       "       57, 69, 90, 22, 86, 98,  9, 61,  2, 23, 87, 39, 78, 54, 73, 43, 74,\n",
       "       29, 24, 75, 38, 49, 53, 31, 96, 59, 79, 76, 16, 64,  3,  8, 65, 11,\n",
       "       95, 67, 94, 85,  1, 19, 70, 44, 12, 66, 34, 26, 25, 30, 48, 42, 41,\n",
       "       93,  7, 58, 72, 14, 52, 60, 40, 21, 92, 62, 15, 82, 77, 13, 80,  5,\n",
       "       88, 28, 89, 56, 51])"
      ]
     },
     "execution_count": 19,
     "metadata": {},
     "output_type": "execute_result"
    }
   ],
   "source": [
    "indices[:-10]"
   ]
  },
  {
   "cell_type": "code",
   "execution_count": 24,
   "metadata": {},
   "outputs": [
    {
     "data": {
      "text/plain": [
       "63"
      ]
     },
     "execution_count": 24,
     "metadata": {},
     "output_type": "execute_result"
    }
   ],
   "source": [
    "d=dict(enumerate(indices))\n",
    "d[1]"
   ]
  },
  {
   "cell_type": "code",
   "execution_count": 26,
   "metadata": {},
   "outputs": [
    {
     "data": {
      "text/plain": [
       "array([[ 0.20550491,  0.30939501,  0.07872518, -0.39141341, -0.28451382,\n",
       "        -0.48722777, -0.28600678,  0.2120979 , -0.01792871, -0.50714347],\n",
       "       [-0.4211049 ,  0.24483196,  0.13176833, -0.15748922,  0.38168553,\n",
       "         0.6404108 ,  0.3352909 , -0.20148743,  0.00652097,  0.10813277],\n",
       "       [ 0.20280041,  0.59457096,  0.08124696,  0.05776292, -0.28184969,\n",
       "         0.51379575, -0.14753363,  0.21702895, -0.38511215, -0.18658863]])"
      ]
     },
     "execution_count": 26,
     "metadata": {},
     "output_type": "execute_result"
    }
   ],
   "source": [
    "import keras\n",
    "x=np.random.randn(3,10)\n",
    "keras.utils.np_utils.normalize(x)"
   ]
  },
  {
   "cell_type": "code",
   "execution_count": 30,
   "metadata": {
    "scrolled": true
   },
   "outputs": [
    {
     "data": {
      "text/plain": [
       "array([[-0.03097932,  0.6996381 ,  0.18667619, -0.34411591, -0.09274955,\n",
       "         0.37221164, -0.05212543,  0.12860396, -0.21664815, -0.37808281]])"
      ]
     },
     "execution_count": 30,
     "metadata": {},
     "output_type": "execute_result"
    }
   ],
   "source": [
    "keras.utils.np_utils.normalize(np.mean(x,axis=0))"
   ]
  },
  {
   "cell_type": "code",
   "execution_count": 31,
   "metadata": {},
   "outputs": [
    {
     "data": {
      "text/plain": [
       "array([-0.04084888,  0.92253242,  0.24614845, -0.45374613, -0.12229818,\n",
       "        0.49079275, -0.06873182,  0.16957528, -0.28566904, -0.49853439])"
      ]
     },
     "execution_count": 31,
     "metadata": {},
     "output_type": "execute_result"
    }
   ],
   "source": [
    "np.mean(x,axis=0)"
   ]
  },
  {
   "cell_type": "code",
   "execution_count": 78,
   "metadata": {},
   "outputs": [
    {
     "data": {
      "text/plain": [
       "4"
      ]
     },
     "execution_count": 78,
     "metadata": {},
     "output_type": "execute_result"
    }
   ],
   "source": [
    "np.random.choice(5)"
   ]
  },
  {
   "cell_type": "code",
   "execution_count": 81,
   "metadata": {
    "scrolled": true
   },
   "outputs": [
    {
     "name": "stdout",
     "output_type": "stream",
     "text": [
      "yes\n"
     ]
    },
    {
     "data": {
      "text/plain": [
       "{1, 3, 4}"
      ]
     },
     "execution_count": 81,
     "metadata": {},
     "output_type": "execute_result"
    }
   ],
   "source": [
    "a=set([1,3])\n",
    "a.add(4)\n",
    "if 1 in a:\n",
    "    print('yes')\n",
    "a"
   ]
  },
  {
   "cell_type": "code",
   "execution_count": 88,
   "metadata": {
    "scrolled": true
   },
   "outputs": [
    {
     "data": {
      "text/plain": [
       "['a', 'a', 'a']"
      ]
     },
     "execution_count": 88,
     "metadata": {},
     "output_type": "execute_result"
    }
   ],
   "source": [
    "[a for a,b in [['a','b'],['a','b'],['a','b']]]"
   ]
  },
  {
   "cell_type": "code",
   "execution_count": 3,
   "metadata": {},
   "outputs": [
    {
     "name": "stdout",
     "output_type": "stream",
     "text": [
      "0 0\n",
      "1 1\n",
      "2 2\n",
      "3 3\n",
      "4 4\n"
     ]
    }
   ],
   "source": [
    "x=np.arange(5)\n",
    "y=np.arange(5)\n",
    "for a,b in zip (x,y):\n",
    "    print(a,b)"
   ]
  },
  {
   "cell_type": "code",
   "execution_count": 4,
   "metadata": {},
   "outputs": [
    {
     "data": {
      "text/plain": [
       "(3, 5, 6, 4)"
      ]
     },
     "execution_count": 4,
     "metadata": {},
     "output_type": "execute_result"
    }
   ],
   "source": [
    "a=np.ones(shape=(5,6,4))\n",
    "b=np.tile(a,(3,1,1,1))\n",
    "b.shape"
   ]
  },
  {
   "cell_type": "code",
   "execution_count": 32,
   "metadata": {},
   "outputs": [
    {
     "data": {
      "text/plain": [
       "2"
      ]
     },
     "execution_count": 32,
     "metadata": {},
     "output_type": "execute_result"
    }
   ],
   "source": [
    "np.random.randint(5)"
   ]
  },
  {
   "cell_type": "code",
   "execution_count": 3,
   "metadata": {
    "collapsed": true
   },
   "outputs": [],
   "source": [
    "a=[]\n",
    "for x in a:\n",
    "    print(x)"
   ]
  },
  {
   "cell_type": "code",
   "execution_count": 7,
   "metadata": {},
   "outputs": [
    {
     "data": {
      "text/plain": [
       "array([3, 4])"
      ]
     },
     "execution_count": 7,
     "metadata": {},
     "output_type": "execute_result"
    }
   ],
   "source": [
    "import numpy as np\n",
    "np.arange(3,5)"
   ]
  },
  {
   "cell_type": "code",
   "execution_count": 1,
   "metadata": {},
   "outputs": [
    {
     "data": {
      "text/plain": [
       "'img_3.'"
      ]
     },
     "execution_count": 1,
     "metadata": {},
     "output_type": "execute_result"
    }
   ],
   "source": [
    "x='gt_img_3.txt'\n",
    "x[3:-3]"
   ]
  },
  {
   "cell_type": "code",
   "execution_count": 2,
   "metadata": {
    "scrolled": true
   },
   "outputs": [
    {
     "data": {
      "text/plain": [
       "54"
      ]
     },
     "execution_count": 2,
     "metadata": {},
     "output_type": "execute_result"
    }
   ],
   "source": [
    "3**3 *2"
   ]
  },
  {
   "cell_type": "code",
   "execution_count": 3,
   "metadata": {},
   "outputs": [
    {
     "data": {
      "text/plain": [
       "54"
      ]
     },
     "execution_count": 3,
     "metadata": {},
     "output_type": "execute_result"
    }
   ],
   "source": [
    "2*3**3"
   ]
  },
  {
   "cell_type": "code",
   "execution_count": 84,
   "metadata": {},
   "outputs": [
    {
     "data": {
      "text/plain": [
       "45.0"
      ]
     },
     "execution_count": 84,
     "metadata": {},
     "output_type": "execute_result"
    }
   ],
   "source": [
    "720/16"
   ]
  }
 ],
 "metadata": {
  "kernelspec": {
   "display_name": "Python 3",
   "language": "python",
   "name": "python3"
  },
  "language_info": {
   "codemirror_mode": {
    "name": "ipython",
    "version": 3
   },
   "file_extension": ".py",
   "mimetype": "text/x-python",
   "name": "python",
   "nbconvert_exporter": "python",
   "pygments_lexer": "ipython3",
   "version": "3.6.7"
  },
  "toc": {
   "base_numbering": 1,
   "nav_menu": {},
   "number_sections": true,
   "sideBar": true,
   "skip_h1_title": false,
   "title_cell": "Table of Contents",
   "title_sidebar": "Contents",
   "toc_cell": false,
   "toc_position": {},
   "toc_section_display": true,
   "toc_window_display": true
  }
 },
 "nbformat": 4,
 "nbformat_minor": 2
}
