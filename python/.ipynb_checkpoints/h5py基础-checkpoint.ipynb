{
 "cells": [
  {
   "cell_type": "code",
   "execution_count": 1,
   "metadata": {},
   "outputs": [
    {
     "name": "stderr",
     "output_type": "stream",
     "text": [
      "d:\\anaconda3\\lib\\site-packages\\h5py\\__init__.py:34: FutureWarning: Conversion of the second argument of issubdtype from `float` to `np.floating` is deprecated. In future, it will be treated as `np.float64 == np.dtype(float).type`.\n",
      "  from ._conv import register_converters as _register_converters\n"
     ]
    }
   ],
   "source": [
    "import h5py\n",
    "import numpy as np"
   ]
  },
  {
   "cell_type": "markdown",
   "metadata": {},
   "source": [
    "# 创建dataset\n",
    "\n",
    "没有写入数据"
   ]
  },
  {
   "cell_type": "code",
   "execution_count": 2,
   "metadata": {
    "scrolled": true
   },
   "outputs": [],
   "source": [
    "import h5py\n",
    "import numpy as np\n",
    "f = h5py.File('dataset.hdf5', 'w')\n",
    "dset = f.create_dataset(\"set1\", (3820000,), dtype='i')\n",
    "f.close()"
   ]
  },
  {
   "cell_type": "markdown",
   "metadata": {},
   "source": [
    "# 写入dataset\n",
    "\n",
    "实际写入数据"
   ]
  },
  {
   "cell_type": "code",
   "execution_count": 3,
   "metadata": {},
   "outputs": [],
   "source": [
    "f = h5py.File('dataset.hdf5', 'r+')\n",
    "dset = f['set1']\n",
    "dset[:] = np.arange(3820000)\n",
    "f.flush()"
   ]
  },
  {
   "cell_type": "markdown",
   "metadata": {},
   "source": [
    "# 更新数据\n"
   ]
  },
  {
   "cell_type": "code",
   "execution_count": 4,
   "metadata": {},
   "outputs": [],
   "source": [
    "#f = h5py.File('dataset.hdf5', 'r+')\n",
    "#dset = f['set1']\n",
    "dset[3] = 100\n",
    "f.flush()"
   ]
  },
  {
   "cell_type": "markdown",
   "metadata": {},
   "source": [
    "# 创建dataset并写入数据"
   ]
  },
  {
   "cell_type": "code",
   "execution_count": 5,
   "metadata": {},
   "outputs": [],
   "source": [
    "#f = h5py.File('dataset.hdf5', 'r+')\n",
    "set1 = f.create_dataset(\"set2\", (1000000,512), dtype='f')\n",
    "set1[...]=np.random.randn(1000000,512)\n",
    "f.flush()"
   ]
  },
  {
   "cell_type": "markdown",
   "metadata": {},
   "source": [
    "#  从numpy创建dataset"
   ]
  },
  {
   "cell_type": "code",
   "execution_count": 6,
   "metadata": {},
   "outputs": [],
   "source": [
    "#f = h5py.File('dataset.hdf5', 'r+')\n",
    "dset = f.create_dataset('set3',data=np.random.randn(100,100))\n",
    "f.flush()  # 就没有占用内存空间了\n",
    "f.close()"
   ]
  },
  {
   "cell_type": "code",
   "execution_count": 9,
   "metadata": {},
   "outputs": [
    {
     "data": {
      "text/plain": [
       "array([  0,   1,   2, 100,   4,   5,   6,   7,   8,   9,  10,  11,  12,\n",
       "        13,  14,  15,  16,  17,  18,  19,  20,  21,  22,  23,  24,  25,\n",
       "        26,  27,  28,  29,  30,  31,  32,  33,  34,  35,  36,  37,  38,\n",
       "        39,  40,  41,  42,  43,  44,  45,  46,  47,  48,  49,  50,  51,\n",
       "        52,  53,  54,  55,  56,  57,  58,  59,  60,  61,  62,  63,  64,\n",
       "        65,  66,  67,  68,  69,  70,  71,  72,  73,  74,  75,  76,  77,\n",
       "        78,  79,  80,  81,  82,  83,  84,  85,  86,  87,  88,  89,  90,\n",
       "        91,  92,  93,  94,  95,  96,  97,  98,  99])"
      ]
     },
     "execution_count": 9,
     "metadata": {},
     "output_type": "execute_result"
    }
   ],
   "source": [
    "# 查看数据\n",
    "f = h5py.File('dataset.hdf5', 'r+')\n",
    "dset = f['set1']\n",
    "dset[:100]"
   ]
  },
  {
   "cell_type": "code",
   "execution_count": 12,
   "metadata": {},
   "outputs": [
    {
     "data": {
      "text/plain": [
       "array([[ 7.2312725e-01,  1.8197329e-01,  1.7446419e-02, ...,\n",
       "         1.6226577e+00,  5.2890188e-01, -6.1306101e-01],\n",
       "       [ 1.8946482e-01,  4.1183752e-01, -1.1897750e+00, ...,\n",
       "         1.4624413e+00,  4.5052195e-01, -9.0823933e-02],\n",
       "       [-9.9836133e-02, -8.1075776e-01,  1.7832285e+00, ...,\n",
       "         5.0419366e-01,  8.5320950e-01,  8.6800295e-01],\n",
       "       ...,\n",
       "       [-5.5765629e-01,  3.2842749e-01,  1.1510855e+00, ...,\n",
       "         5.2576125e-01,  5.7201535e-01,  1.0596958e+00],\n",
       "       [-1.3836327e-01,  1.0668435e+00, -1.1545835e+00, ...,\n",
       "         1.5976028e-01,  1.4360012e+00,  1.5152655e+00],\n",
       "       [-2.5347808e-02, -1.6705828e+00,  1.1434808e+00, ...,\n",
       "         1.7831545e+00,  6.6583782e-01, -6.9236499e-04]], dtype=float32)"
      ]
     },
     "execution_count": 12,
     "metadata": {},
     "output_type": "execute_result"
    }
   ],
   "source": [
    "f['set2'][:100]"
   ]
  },
  {
   "cell_type": "code",
   "execution_count": 15,
   "metadata": {},
   "outputs": [
    {
     "data": {
      "text/plain": [
       "array([[ 1.08021527, -0.24276198,  0.23330658, ...,  0.12179829,\n",
       "        -1.6861134 ,  1.03220206],\n",
       "       [ 0.62229298,  1.46076188, -0.51897536, ..., -0.90493905,\n",
       "        -0.25960675,  0.78818428],\n",
       "       [ 0.33428214,  1.01828489,  0.67168113, ...,  0.50197359,\n",
       "         0.05285131, -0.56299232],\n",
       "       ...,\n",
       "       [-0.38889547,  0.36375243, -1.28642876, ..., -1.15752793,\n",
       "         0.39730382,  0.84552303],\n",
       "       [-0.84044972, -1.46865779,  0.41636495, ..., -1.37564945,\n",
       "         0.34488207,  1.53811552],\n",
       "       [-0.53338254, -0.17342899, -0.09853711, ...,  0.34780292,\n",
       "         0.3670385 , -0.01731401]])"
      ]
     },
     "execution_count": 15,
     "metadata": {},
     "output_type": "execute_result"
    }
   ],
   "source": [
    "f['set3'][:100]"
   ]
  }
 ],
 "metadata": {
  "kernelspec": {
   "display_name": "Python 3",
   "language": "python",
   "name": "python3"
  },
  "language_info": {
   "codemirror_mode": {
    "name": "ipython",
    "version": 3
   },
   "file_extension": ".py",
   "mimetype": "text/x-python",
   "name": "python",
   "nbconvert_exporter": "python",
   "pygments_lexer": "ipython3",
   "version": "3.6.4"
  }
 },
 "nbformat": 4,
 "nbformat_minor": 2
}
