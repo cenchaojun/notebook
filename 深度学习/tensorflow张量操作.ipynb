{
 "cells": [
  {
   "cell_type": "code",
   "execution_count": 1,
   "metadata": {
    "scrolled": true
   },
   "outputs": [
    {
     "name": "stderr",
     "output_type": "stream",
     "text": [
      "d:\\anaconda3\\lib\\site-packages\\h5py\\__init__.py:34: FutureWarning: Conversion of the second argument of issubdtype from `float` to `np.floating` is deprecated. In future, it will be treated as `np.float64 == np.dtype(float).type`.\n",
      "  from ._conv import register_converters as _register_converters\n"
     ]
    }
   ],
   "source": [
    "import numpy as np\n",
    "import tensorflow as tf\n",
    "sess = tf.Session()"
   ]
  },
  {
   "cell_type": "markdown",
   "metadata": {},
   "source": [
    "# tf 张量操作"
   ]
  },
  {
   "cell_type": "code",
   "execution_count": 7,
   "metadata": {},
   "outputs": [
    {
     "name": "stdout",
     "output_type": "stream",
     "text": [
      "[1 2 1]\n",
      "[ True False  True]\n",
      "[[0]\n",
      " [2]]\n",
      "[[0]\n",
      " [2]]\n",
      "[[1]\n",
      " [2]]\n",
      "[[0]\n",
      " [2]\n",
      " [1]\n",
      " [2]]\n",
      "[[1 3 1]\n",
      " [1 3 2]\n",
      " [0 0 2]\n",
      " [1 3 2]]\n",
      "[[[1 3 1]]\n",
      "\n",
      " [[1 3 2]]\n",
      "\n",
      " [[0 0 2]]\n",
      "\n",
      " [[1 3 2]]]\n"
     ]
    }
   ],
   "source": [
    "x = tf.Variable([[1,3,1], [0,0,2], [1,3,2]], name='x')\n",
    "\n",
    "y = tf.where(tf.not_equal(tf.argmax(x,axis=-1),2))\n",
    "y1= tf.where(tf.Variable([True, False,  True]))\n",
    "sess.run(tf.global_variables_initializer())\n",
    "print(sess.run(tf.argmax(x,axis=-1)))\n",
    "print(sess.run(tf.not_equal(tf.argmax(x,axis=-1),2)))\n",
    "print(sess.run(y))\n",
    "print(sess.run(y1))\n",
    "z = tf.where(tf.equal(x[...,-1],2))\n",
    "print(sess.run(z))\n",
    "c=tf.concat([y,z],axis=0)\n",
    "print(sess.run(c))\n",
    "\n",
    "out = tf.gather_nd(x,c)\n",
    "print(sess.run(out))\n",
    "\n",
    "\n",
    "out = tf.gather(x,c)\n",
    "print(sess.run(out))\n"
   ]
  },
  {
   "cell_type": "markdown",
   "metadata": {},
   "source": [
    "## tf.transpose"
   ]
  },
  {
   "cell_type": "code",
   "execution_count": 3,
   "metadata": {},
   "outputs": [
    {
     "data": {
      "text/plain": [
       "array([[1, 3],\n",
       "       [0, 0],\n",
       "       [1, 3]])"
      ]
     },
     "execution_count": 3,
     "metadata": {},
     "output_type": "execute_result"
    }
   ],
   "source": [
    "x = tf.Variable([[1,3,2], [0,0,0], [1,3,2]], name='x')\n",
    "y = x[...,:-1]\n",
    "sess.run(tf.global_variables_initializer())\n",
    "sess.run(y)\n"
   ]
  },
  {
   "cell_type": "code",
   "execution_count": 67,
   "metadata": {
    "scrolled": true
   },
   "outputs": [
    {
     "name": "stdout",
     "output_type": "stream",
     "text": [
      "x:\n",
      "[[1 3 2]\n",
      " [0 0 0]\n",
      " [1 3 2]]\n",
      " y:\n",
      "[[1 3 2]\n",
      " [0 0 0]\n",
      " [1 3 2]]\n"
     ]
    }
   ],
   "source": [
    "x = tf.Variable([[1,3,2], [0,0,0], [1,3,2]], name='x')\n",
    "y = tf.transpose(x,(0,1))\n",
    "sess.run(tf.global_variables_initializer())\n",
    "print(\"x:\\n{}\\n y:\\n{}\".format(sess.run(x),sess.run(y)))"
   ]
  },
  {
   "cell_type": "markdown",
   "metadata": {},
   "source": [
    "## tf.stack"
   ]
  },
  {
   "cell_type": "code",
   "execution_count": 73,
   "metadata": {},
   "outputs": [
    {
     "data": {
      "text/plain": [
       "<tf.Tensor 'stack_7:0' shape=(3, 2) dtype=int32>"
      ]
     },
     "execution_count": 73,
     "metadata": {},
     "output_type": "execute_result"
    }
   ],
   "source": [
    "tf.stack([[1,2,1],[2,3,2]],-1)\n",
    "#sess.run(tf.stack([1,2,1]))"
   ]
  },
  {
   "cell_type": "markdown",
   "metadata": {},
   "source": [
    "## tf.tile"
   ]
  },
  {
   "cell_type": "code",
   "execution_count": 77,
   "metadata": {},
   "outputs": [
    {
     "data": {
      "text/plain": [
       "<tf.Tensor 'Tile_3:0' shape=(2, 4) dtype=float32>"
      ]
     },
     "execution_count": 77,
     "metadata": {},
     "output_type": "execute_result"
    }
   ],
   "source": [
    "x = tf.Variable(tf.ones([2, 2]))\n",
    "tf.tile(x,[1,2])"
   ]
  },
  {
   "cell_type": "code",
   "execution_count": 31,
   "metadata": {
    "collapsed": true
   },
   "outputs": [],
   "source": [
    "x = tf.Variable([[1,3,2], [0,0,0], [1,3,2]], name='x')"
   ]
  },
  {
   "cell_type": "code",
   "execution_count": 32,
   "metadata": {
    "collapsed": true
   },
   "outputs": [],
   "source": [
    "a=tf.reduce_any(tf.not_equal(x,0),axis=-1,keep_dims=True)\n",
    "b=tf.cast(a,tf.int32)"
   ]
  },
  {
   "cell_type": "code",
   "execution_count": 33,
   "metadata": {},
   "outputs": [
    {
     "name": "stdout",
     "output_type": "stream",
     "text": [
      "[[1 3 2]\n",
      " [0 0 0]\n",
      " [1 3 2]]\n"
     ]
    }
   ],
   "source": [
    "sess.run(tf.global_variables_initializer())\n",
    "print(sess.run(x*b))"
   ]
  },
  {
   "cell_type": "code",
   "execution_count": 11,
   "metadata": {
    "scrolled": true
   },
   "outputs": [
    {
     "data": {
      "text/plain": [
       "<tf.Tensor 'Any_8:0' shape=(2, 1) dtype=bool>"
      ]
     },
     "execution_count": 11,
     "metadata": {},
     "output_type": "execute_result"
    }
   ],
   "source": [
    "x = tf.constant([[True,  True], [False, False]])\n",
    "tf.reduce_any(x, keep_dims=True)  # True\n",
    "tf.reduce_any(x, axis=0, keep_dims=True)\n",
    "tf.reduce_any(x, axis=1, keep_dims=True)"
   ]
  },
  {
   "cell_type": "code",
   "execution_count": 15,
   "metadata": {
    "scrolled": true
   },
   "outputs": [
    {
     "name": "stdout",
     "output_type": "stream",
     "text": [
      "True\n"
     ]
    }
   ],
   "source": [
    "print(sess.run(tf.reduce_any(x, keep_dims=False)))  # True"
   ]
  },
  {
   "cell_type": "code",
   "execution_count": 13,
   "metadata": {
    "scrolled": true
   },
   "outputs": [
    {
     "name": "stdout",
     "output_type": "stream",
     "text": [
      "[[ True]\n",
      " [False]]\n"
     ]
    }
   ],
   "source": [
    "print(sess.run(tf.reduce_any(x, axis=1, keep_dims=True)))"
   ]
  },
  {
   "cell_type": "markdown",
   "metadata": {},
   "source": [
    "# tf.nn 网络"
   ]
  },
  {
   "cell_type": "markdown",
   "metadata": {},
   "source": [
    "## dropout"
   ]
  },
  {
   "cell_type": "code",
   "execution_count": 62,
   "metadata": {
    "scrolled": true
   },
   "outputs": [
    {
     "name": "stdout",
     "output_type": "stream",
     "text": [
      "[[0. 2. 2. 2. 2. 2. 0. 2. 2. 2.]\n",
      " [0. 2. 2. 2. 2. 2. 0. 2. 2. 2.]\n",
      " [0. 2. 2. 2. 2. 2. 0. 2. 2. 2.]\n",
      " [0. 2. 2. 2. 2. 2. 0. 2. 2. 2.]\n",
      " [0. 2. 2. 2. 2. 2. 0. 2. 2. 2.]\n",
      " [0. 2. 2. 2. 2. 2. 0. 2. 2. 2.]\n",
      " [0. 2. 2. 2. 2. 2. 0. 2. 2. 2.]\n",
      " [0. 2. 2. 2. 2. 2. 0. 2. 2. 2.]\n",
      " [0. 2. 2. 2. 2. 2. 0. 2. 2. 2.]\n",
      " [0. 2. 2. 2. 2. 2. 0. 2. 2. 2.]]\n"
     ]
    }
   ],
   "source": [
    "dropout = tf.placeholder(tf.float32)\n",
    "x = tf.Variable(tf.ones([10, 10]))\n",
    "noise_shape=tf.Variable([1,10])\n",
    "y = tf.nn.dropout(x, dropout,noise_shape=noise_shape)\n",
    "init = tf.initialize_all_variables()\n",
    "sess.run(init)\n",
    "print(sess.run(y, feed_dict = {dropout: 0.5}))"
   ]
  },
  {
   "cell_type": "markdown",
   "metadata": {},
   "source": [
    "## embedding_lookup\n",
    "\n",
    "tf.nn.embedding_lookup函数的用法主要是选取一个张量里面索引对应的元素。tf.nn.embedding_lookup（tensor, id）:tensor就是输入张量，id就是张量对应的索引，其他的参数不介绍。\n"
   ]
  },
  {
   "cell_type": "code",
   "execution_count": 13,
   "metadata": {
    "scrolled": true
   },
   "outputs": [
    {
     "name": "stdout",
     "output_type": "stream",
     "text": [
      "[[0.36019306 0.64303964 0.25078819]\n",
      " [0.6460768  0.21576261 0.06256391]] \n",
      "[[0.82230805 0.64721447 0.07449068]\n",
      " [0.36019306 0.64303964 0.25078819]\n",
      " [0.82323789 0.92840628 0.30259997]\n",
      " [0.6460768  0.21576261 0.06256391]\n",
      " [0.46624078 0.17069981 0.3956121 ]\n",
      " [0.64055378 0.48916749 0.96522839]\n",
      " [0.24365901 0.90473747 0.17843189]\n",
      " [0.48960301 0.75474616 0.37183785]\n",
      " [0.88221148 0.63116148 0.8655069 ]\n",
      " [0.94918313 0.9529611  0.67089635]]\n"
     ]
    }
   ],
   "source": [
    "c = tf.constant(np.random.random([10,3]))\n",
    "b = tf.nn.embedding_lookup(c, tf.constant([1, 3]))\n",
    "init = tf.initialize_all_variables()\n",
    "sess.run(init)\n",
    "print(\"{} \\n{}\".format(sess.run(b),sess.run(c)))"
   ]
  },
  {
   "cell_type": "code",
   "execution_count": null,
   "metadata": {
    "collapsed": true
   },
   "outputs": [],
   "source": [
    "tf.nn.sparse_softmax_cross_entropy_with_logits"
   ]
  },
  {
   "cell_type": "code",
   "execution_count": 14,
   "metadata": {},
   "outputs": [
    {
     "name": "stdout",
     "output_type": "stream",
     "text": [
      "[[0.09003057 0.24472848 0.66524094]\n",
      " [0.09003057 0.24472848 0.66524094]\n",
      " [0.09003057 0.24472848 0.66524094]] \n",
      "[0.407606   0.407606   0.40760598] \n",
      "[0.40760595 0.40760595 0.40760595]\n"
     ]
    }
   ],
   "source": [
    "\n",
    "#our NN's output  \n",
    "logits=tf.constant([[1.0,2.0,3.0],[1.0,2.0,3.0],[1.0,2.0,3.0]])  \n",
    "#step1:do softmax  \n",
    "y=tf.nn.softmax(logits)  \n",
    "#true label \n",
    "#注意这里标签必须是浮点数,不然在后面计算tf.multiply时就会因为类型不匹配tf_log的float32数据类型而出错\n",
    "y_=tf.constant([[0,0,1.0],[0,0,1.0],[0,0,1.0]])#这个是稀疏的标签\n",
    "#step2:do log  \n",
    "tf_log=tf.log(y)\n",
    "#step3:do mult  \n",
    "pixel_wise_mult=tf.multiply(y_,tf_log)\n",
    "#step4:do cross_entropy  \n",
    "cross_entropy = -tf.reduce_sum(pixel_wise_mult,-1)  \n",
    " \n",
    "#do cross_entropy just two step  \n",
    "#将标签稠密化\n",
    "dense_y=tf.argmax(y_,1)\n",
    "entropy=tf.nn.sparse_softmax_cross_entropy_with_logits(labels=dense_y,logits=logits)\n",
    "\n",
    "\n",
    "sess.run(tf.global_variables_initializer())\n",
    "\n",
    "y,cross_entropy,entropy=sess.run([y,cross_entropy,entropy])\n",
    "\n",
    "print(\"{} \\n{} \\n{}\".format(y,cross_entropy,entropy))\n"
   ]
  },
  {
   "cell_type": "code",
   "execution_count": 13,
   "metadata": {},
   "outputs": [
    {
     "data": {
      "text/plain": [
       "1.22281785"
      ]
     },
     "execution_count": 13,
     "metadata": {},
     "output_type": "execute_result"
    }
   ],
   "source": [
    "np.sum(np.array([0.40760595, 0.40760595, 0.40760595]))"
   ]
  }
 ],
 "metadata": {
  "kernelspec": {
   "display_name": "Python 3",
   "language": "python",
   "name": "python3"
  },
  "language_info": {
   "codemirror_mode": {
    "name": "ipython",
    "version": 3
   },
   "file_extension": ".py",
   "mimetype": "text/x-python",
   "name": "python",
   "nbconvert_exporter": "python",
   "pygments_lexer": "ipython3",
   "version": "3.6.4"
  }
 },
 "nbformat": 4,
 "nbformat_minor": 2
}
