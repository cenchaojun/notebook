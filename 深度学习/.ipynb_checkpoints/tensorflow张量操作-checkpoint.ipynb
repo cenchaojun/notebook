{
 "cells": [
  {
   "cell_type": "markdown",
   "metadata": {},
   "source": [
    "[toc]"
   ]
  },
  {
   "cell_type": "code",
   "execution_count": 79,
   "metadata": {
    "scrolled": true
   },
   "outputs": [],
   "source": [
    "import numpy as np\n",
    "import tensorflow as tf\n",
    "sess = tf.Session()"
   ]
  },
  {
   "cell_type": "markdown",
   "metadata": {},
   "source": [
    "# tf 张量操作"
   ]
  },
  {
   "cell_type": "code",
   "execution_count": 13,
   "metadata": {
    "scrolled": true
   },
   "outputs": [],
   "source": [
    "x = tf.Variable([[1,3,1], [0,0,2], [1,3,2]], name='x')"
   ]
  },
  {
   "cell_type": "markdown",
   "metadata": {},
   "source": [
    "## tf.gather vs tf.gather_nd"
   ]
  },
  {
   "cell_type": "code",
   "execution_count": 14,
   "metadata": {},
   "outputs": [
    {
     "name": "stdout",
     "output_type": "stream",
     "text": [
      "x:\n",
      "[[1 3 1]\n",
      " [0 0 2]\n",
      " [1 3 2]]\n",
      "tf.argmax(x,axis=-1):[1 2 1]\n",
      "tf.not_equal(tf.argmax(x,axis=-1),2):[ True False  True]\n",
      "y:[[0]\n",
      " [2]]\n",
      "tf.gather(x,y):[[[1 3 1]]\n",
      "\n",
      " [[1 3 2]]]\n",
      "tf.where([True, False,  True]):\n",
      "[[0]\n",
      " [2]]\n",
      "tf.where([[True, False,  True],[False, True,  True]]):\n",
      "[[0 0]\n",
      " [0 2]\n",
      " [1 1]\n",
      " [1 2]]\n"
     ]
    }
   ],
   "source": [
    "y = tf.where(tf.not_equal(tf.argmax(x,axis=-1),2))\n",
    "y1= tf.where(tf.Variable([True, False,  True]))\n",
    "\n",
    "sess.run(tf.global_variables_initializer())\n",
    "\n",
    "\n",
    "\n",
    "\n",
    "# print(sess.run(tf.not_equal(tf.argmax(x,axis=-1),2)))\n",
    "print(\"x:\\n{}\".format(sess.run(x)))\n",
    "print(\"tf.argmax(x,axis=-1):{}\".format(sess.run(tf.argmax(x,axis=-1))))\n",
    "print(\"tf.not_equal(tf.argmax(x,axis=-1),2):{}\".format(sess.run(tf.not_equal(tf.argmax(x,axis=-1),2))))\n",
    "print(\"y:{}\".format(sess.run(y)))\n",
    "print(\"tf.gather(x,y):{}\".format(sess.run(tf.gather(x,y))))\n",
    "print(\"tf.where([True, False,  True]):\\n{}\".format(sess.run(tf.where([True, False,  True]))))\n",
    "print(\"tf.where([[True, False,  True],[False, True,  True]]):\\n{}\".\n",
    "      format(sess.run(tf.where([[True, False,  True],[False, True,  True]]))))\n",
    "\n"
   ]
  },
  {
   "cell_type": "code",
   "execution_count": 24,
   "metadata": {},
   "outputs": [
    {
     "name": "stdout",
     "output_type": "stream",
     "text": [
      "tf.where(tf.greater(x,3)):\n",
      "[[0 1]\n",
      " [1 2]\n",
      " [2 1]\n",
      " [2 2]]\n"
     ]
    }
   ],
   "source": [
    "print(\"tf.where(tf.greater(x,3)):\\n{}\".format(sess.run(tf.where(tf.greater(x,1)))))"
   ]
  },
  {
   "cell_type": "code",
   "execution_count": 28,
   "metadata": {},
   "outputs": [
    {
     "name": "stdout",
     "output_type": "stream",
     "text": [
      "tf.gather(x,tf.where(tf.greater(x,3))):\n",
      "[[[1 3 1]\n",
      "  [0 0 2]]\n",
      "\n",
      " [[0 0 2]\n",
      "  [1 3 2]]\n",
      "\n",
      " [[1 3 2]\n",
      "  [0 0 2]]\n",
      "\n",
      " [[1 3 2]\n",
      "  [1 3 2]]]\n"
     ]
    }
   ],
   "source": [
    "print(\"tf.gather(x,tf.where(tf.greater(x,3))):\\n{}\".\n",
    "      format(sess.run(tf.gather(x,tf.where(tf.greater(x,1))))))"
   ]
  },
  {
   "cell_type": "code",
   "execution_count": 30,
   "metadata": {},
   "outputs": [
    {
     "name": "stdout",
     "output_type": "stream",
     "text": [
      "tf.gather_nd(x,tf.where(tf.greater(x,3))):\n",
      "[3 2 3 2]\n"
     ]
    }
   ],
   "source": [
    "print(\"tf.gather_nd(x,tf.where(tf.greater(x,3))):\\n{}\".\n",
    "      format(sess.run(tf.gather_nd(x,tf.where(tf.greater(x,1))))))"
   ]
  },
  {
   "cell_type": "code",
   "execution_count": 32,
   "metadata": {
    "scrolled": true
   },
   "outputs": [
    {
     "name": "stdout",
     "output_type": "stream",
     "text": [
      "[[[0 0 2]]\n",
      "\n",
      " [[0 0 2]]]\n"
     ]
    }
   ],
   "source": [
    "print(sess.run(tf.gather(x,[[1],[1]])))"
   ]
  },
  {
   "cell_type": "markdown",
   "metadata": {},
   "source": [
    "## tf.tile"
   ]
  },
  {
   "cell_type": "code",
   "execution_count": 15,
   "metadata": {
    "scrolled": true
   },
   "outputs": [
    {
     "data": {
      "text/plain": [
       "array([[1, 3, 1],\n",
       "       [0, 0, 2],\n",
       "       [1, 3, 2],\n",
       "       [1, 3, 1],\n",
       "       [0, 0, 2],\n",
       "       [1, 3, 2]])"
      ]
     },
     "execution_count": 15,
     "metadata": {},
     "output_type": "execute_result"
    }
   ],
   "source": [
    "sess.run(tf.tile(x,[2,1]))"
   ]
  },
  {
   "cell_type": "code",
   "execution_count": 16,
   "metadata": {},
   "outputs": [
    {
     "data": {
      "text/plain": [
       "array([[1, 3, 1, 1, 3, 1],\n",
       "       [0, 0, 2, 0, 0, 2],\n",
       "       [1, 3, 2, 1, 3, 2],\n",
       "       [1, 3, 1, 1, 3, 1],\n",
       "       [0, 0, 2, 0, 0, 2],\n",
       "       [1, 3, 2, 1, 3, 2]])"
      ]
     },
     "execution_count": 16,
     "metadata": {},
     "output_type": "execute_result"
    }
   ],
   "source": [
    "sess.run(tf.tile(x,[2,2]))"
   ]
  },
  {
   "cell_type": "markdown",
   "metadata": {},
   "source": [
    "## tf.split\n",
    "\n",
    "tf.split后维数没有发生变化"
   ]
  },
  {
   "cell_type": "code",
   "execution_count": 21,
   "metadata": {},
   "outputs": [
    {
     "data": {
      "text/plain": [
       "[array([[1, 3, 1]]), array([[0, 0, 2]]), array([[1, 3, 2]])]"
      ]
     },
     "execution_count": 21,
     "metadata": {},
     "output_type": "execute_result"
    }
   ],
   "source": [
    "sess.run(tf.split(x,3))"
   ]
  },
  {
   "cell_type": "code",
   "execution_count": 25,
   "metadata": {
    "scrolled": true
   },
   "outputs": [
    {
     "data": {
      "text/plain": [
       "[array([[1],\n",
       "        [0],\n",
       "        [1]]), array([[3],\n",
       "        [0],\n",
       "        [3]]), array([[1],\n",
       "        [2],\n",
       "        [2]])]"
      ]
     },
     "execution_count": 25,
     "metadata": {},
     "output_type": "execute_result"
    }
   ],
   "source": [
    "sess.run(tf.split(x,3,axis=1))"
   ]
  },
  {
   "cell_type": "markdown",
   "metadata": {},
   "source": [
    "## tf.squeeze\n",
    "\n",
    "压缩维度长度为1的维度"
   ]
  },
  {
   "cell_type": "code",
   "execution_count": 28,
   "metadata": {},
   "outputs": [
    {
     "data": {
      "text/plain": [
       "array([[1, 3, 1]])"
      ]
     },
     "execution_count": 28,
     "metadata": {},
     "output_type": "execute_result"
    }
   ],
   "source": [
    "sess.run(x[:1])"
   ]
  },
  {
   "cell_type": "code",
   "execution_count": 29,
   "metadata": {},
   "outputs": [
    {
     "data": {
      "text/plain": [
       "array([1, 3, 1])"
      ]
     },
     "execution_count": 29,
     "metadata": {},
     "output_type": "execute_result"
    }
   ],
   "source": [
    "sess.run(tf.squeeze(x[:1]))"
   ]
  },
  {
   "cell_type": "markdown",
   "metadata": {},
   "source": [
    "## tf.expand_dims"
   ]
  },
  {
   "cell_type": "code",
   "execution_count": 34,
   "metadata": {},
   "outputs": [
    {
     "data": {
      "text/plain": [
       "array([[[1],\n",
       "        [3],\n",
       "        [1]],\n",
       "\n",
       "       [[0],\n",
       "        [0],\n",
       "        [2]],\n",
       "\n",
       "       [[1],\n",
       "        [3],\n",
       "        [2]]])"
      ]
     },
     "execution_count": 34,
     "metadata": {},
     "output_type": "execute_result"
    }
   ],
   "source": [
    "sess.run(tf.expand_dims(x,axis=2))"
   ]
  },
  {
   "cell_type": "code",
   "execution_count": 35,
   "metadata": {},
   "outputs": [
    {
     "data": {
      "text/plain": [
       "array([[[1, 3, 1]],\n",
       "\n",
       "       [[0, 0, 2]],\n",
       "\n",
       "       [[1, 3, 2]]])"
      ]
     },
     "execution_count": 35,
     "metadata": {},
     "output_type": "execute_result"
    }
   ],
   "source": [
    "sess.run(tf.expand_dims(x,axis=1))"
   ]
  },
  {
   "cell_type": "markdown",
   "metadata": {},
   "source": [
    "## f.add_n\n",
    "\n",
    "函数是实现一个列表的元素的相加。就是输入的对象是一个列表，列表里的元素可以是向量，矩阵，等"
   ]
  },
  {
   "cell_type": "code",
   "execution_count": 43,
   "metadata": {
    "scrolled": true
   },
   "outputs": [
    {
     "data": {
      "text/plain": [
       "array([[2, 6, 2],\n",
       "       [0, 0, 4],\n",
       "       [2, 6, 4]])"
      ]
     },
     "execution_count": 43,
     "metadata": {},
     "output_type": "execute_result"
    }
   ],
   "source": [
    "sess.run(tf.add_n([x,x]))"
   ]
  },
  {
   "cell_type": "code",
   "execution_count": 52,
   "metadata": {},
   "outputs": [
    {
     "data": {
      "text/plain": [
       "array([[3, 9, 3]])"
      ]
     },
     "execution_count": 52,
     "metadata": {},
     "output_type": "execute_result"
    }
   ],
   "source": [
    "sess.run(tf.add_n([x[:1],x[:1],x[:1]]))"
   ]
  },
  {
   "cell_type": "code",
   "execution_count": 54,
   "metadata": {},
   "outputs": [
    {
     "data": {
      "text/plain": [
       "array([0, 0, 6])"
      ]
     },
     "execution_count": 54,
     "metadata": {},
     "output_type": "execute_result"
    }
   ],
   "source": [
    "sess.run(tf.add_n([x[1],x[1],x[1]]))"
   ]
  },
  {
   "cell_type": "code",
   "execution_count": 47,
   "metadata": {},
   "outputs": [
    {
     "data": {
      "text/plain": [
       "array([5, 7])"
      ]
     },
     "execution_count": 47,
     "metadata": {},
     "output_type": "execute_result"
    }
   ],
   "source": [
    "sess.run(tf.add_n([[1,0],[2,3],[2,4]]))"
   ]
  },
  {
   "cell_type": "code",
   "execution_count": 56,
   "metadata": {},
   "outputs": [
    {
     "data": {
      "text/plain": [
       "array([[1, 3, 1],\n",
       "       [0, 0, 2],\n",
       "       [1, 3, 2]])"
      ]
     },
     "execution_count": 56,
     "metadata": {},
     "output_type": "execute_result"
    }
   ],
   "source": [
    "sess.run(tf.identity(x))"
   ]
  },
  {
   "cell_type": "code",
   "execution_count": null,
   "metadata": {
    "collapsed": true
   },
   "outputs": [],
   "source": [
    "###### print(sess.run(tf.gather_nd(x,[[1],[1]])))"
   ]
  },
  {
   "cell_type": "code",
   "execution_count": null,
   "metadata": {
    "collapsed": true
   },
   "outputs": [],
   "source": []
  },
  {
   "cell_type": "code",
   "execution_count": null,
   "metadata": {
    "collapsed": true
   },
   "outputs": [],
   "source": [
    "z = tf.where(tf.equal(x[...,-1],2))\n",
    "print(sess.run(z))\n",
    "c=tf.concat([y,z],axis=0)\n",
    "print(\"c:{}\".format(sess.run(c)))\n",
    "\n",
    "out = tf.gather_nd(x,c)\n",
    "print(sess.run(out))\n",
    "\n",
    "\n",
    "out = tf.gather(x,c,axis=1)\n",
    "print(sess.run(out))"
   ]
  },
  {
   "cell_type": "markdown",
   "metadata": {},
   "source": [
    "## tf.transpose"
   ]
  },
  {
   "cell_type": "code",
   "execution_count": 3,
   "metadata": {},
   "outputs": [
    {
     "data": {
      "text/plain": [
       "array([[1, 3],\n",
       "       [0, 0],\n",
       "       [1, 3]])"
      ]
     },
     "execution_count": 3,
     "metadata": {},
     "output_type": "execute_result"
    }
   ],
   "source": [
    "x = tf.Variable([[1,3,2], [0,0,0], [1,3,2]], name='x')\n",
    "y = x[...,:-1]\n",
    "sess.run(tf.global_variables_initializer())\n",
    "sess.run(y)\n"
   ]
  },
  {
   "cell_type": "code",
   "execution_count": 67,
   "metadata": {
    "scrolled": true
   },
   "outputs": [
    {
     "name": "stdout",
     "output_type": "stream",
     "text": [
      "x:\n",
      "[[1 3 2]\n",
      " [0 0 0]\n",
      " [1 3 2]]\n",
      " y:\n",
      "[[1 3 2]\n",
      " [0 0 0]\n",
      " [1 3 2]]\n"
     ]
    }
   ],
   "source": [
    "x = tf.Variable([[1,3,2], [0,0,0], [1,3,2]], name='x')\n",
    "y = tf.transpose(x,(0,1))\n",
    "sess.run(tf.global_variables_initializer())\n",
    "print(\"x:\\n{}\\n y:\\n{}\".format(sess.run(x),sess.run(y)))"
   ]
  },
  {
   "cell_type": "markdown",
   "metadata": {},
   "source": [
    "## tf.stack"
   ]
  },
  {
   "cell_type": "code",
   "execution_count": 61,
   "metadata": {},
   "outputs": [
    {
     "data": {
      "text/plain": [
       "array([[1, 2],\n",
       "       [2, 3],\n",
       "       [1, 2]])"
      ]
     },
     "execution_count": 61,
     "metadata": {},
     "output_type": "execute_result"
    }
   ],
   "source": [
    "sess.run(tf.stack([[1,2,1],[2,3,2]],1))"
   ]
  },
  {
   "cell_type": "markdown",
   "metadata": {},
   "source": [
    "## tf.tile"
   ]
  },
  {
   "cell_type": "code",
   "execution_count": 77,
   "metadata": {},
   "outputs": [
    {
     "data": {
      "text/plain": [
       "<tf.Tensor 'Tile_3:0' shape=(2, 4) dtype=float32>"
      ]
     },
     "execution_count": 77,
     "metadata": {},
     "output_type": "execute_result"
    }
   ],
   "source": [
    "x = tf.Variable(tf.ones([2, 2]))\n",
    "tf.tile(x,[1,2])"
   ]
  },
  {
   "cell_type": "markdown",
   "metadata": {},
   "source": [
    "## tf.reduce_any\n",
    "\n",
    "在张量的维度上计算元素的 \"逻辑或\"。 "
   ]
  },
  {
   "cell_type": "code",
   "execution_count": 62,
   "metadata": {
    "collapsed": true
   },
   "outputs": [],
   "source": [
    "x = tf.Variable([[1,3,2], [0,0,0], [1,3,2]], name='x')"
   ]
  },
  {
   "cell_type": "code",
   "execution_count": 63,
   "metadata": {},
   "outputs": [
    {
     "name": "stdout",
     "output_type": "stream",
     "text": [
      "WARNING:tensorflow:From <ipython-input-63-8e023819897e>:1: calling reduce_any (from tensorflow.python.ops.math_ops) with keep_dims is deprecated and will be removed in a future version.\n",
      "Instructions for updating:\n",
      "keep_dims is deprecated, use keepdims instead\n"
     ]
    }
   ],
   "source": [
    "a=tf.reduce_any(tf.not_equal(x,0),axis=-1,keep_dims=True)\n",
    "b=tf.cast(a,tf.int32)"
   ]
  },
  {
   "cell_type": "code",
   "execution_count": 64,
   "metadata": {},
   "outputs": [
    {
     "name": "stdout",
     "output_type": "stream",
     "text": [
      "[[1 3 2]\n",
      " [0 0 0]\n",
      " [1 3 2]]\n"
     ]
    }
   ],
   "source": [
    "sess.run(tf.global_variables_initializer())\n",
    "print(sess.run(x*b))"
   ]
  },
  {
   "cell_type": "code",
   "execution_count": 66,
   "metadata": {
    "scrolled": true
   },
   "outputs": [
    {
     "data": {
      "text/plain": [
       "array([[ True]])"
      ]
     },
     "execution_count": 66,
     "metadata": {},
     "output_type": "execute_result"
    }
   ],
   "source": [
    "x = tf.constant([[True,  True],\n",
    "                [False, False]])\n",
    "sess.run(tf.reduce_any(x, keep_dims=True))  # True"
   ]
  },
  {
   "cell_type": "code",
   "execution_count": 69,
   "metadata": {},
   "outputs": [
    {
     "data": {
      "text/plain": [
       "array([ True,  True])"
      ]
     },
     "execution_count": 69,
     "metadata": {},
     "output_type": "execute_result"
    }
   ],
   "source": [
    "sess.run(tf.reduce_any(x, axis=0, keep_dims=False))"
   ]
  },
  {
   "cell_type": "code",
   "execution_count": 67,
   "metadata": {},
   "outputs": [
    {
     "data": {
      "text/plain": [
       "array([[ True],\n",
       "       [False]])"
      ]
     },
     "execution_count": 67,
     "metadata": {},
     "output_type": "execute_result"
    }
   ],
   "source": [
    "sess.run(tf.reduce_any(x, axis=1, keep_dims=True))"
   ]
  },
  {
   "cell_type": "code",
   "execution_count": 15,
   "metadata": {
    "scrolled": true
   },
   "outputs": [
    {
     "name": "stdout",
     "output_type": "stream",
     "text": [
      "True\n"
     ]
    }
   ],
   "source": [
    "print(sess.run(tf.reduce_any(x, keep_dims=False)))  # True"
   ]
  },
  {
   "cell_type": "code",
   "execution_count": 13,
   "metadata": {
    "scrolled": true
   },
   "outputs": [
    {
     "name": "stdout",
     "output_type": "stream",
     "text": [
      "[[ True]\n",
      " [False]]\n"
     ]
    }
   ],
   "source": [
    "print(sess.run(tf.reduce_any(x, axis=1, keep_dims=True)))"
   ]
  },
  {
   "cell_type": "markdown",
   "metadata": {},
   "source": [
    "## tf.boolean_mask\n",
    "\n",
    "tf.boolean_mask(x,mask) 等价于 tf.gather_nd(x,tf.where(mask))"
   ]
  },
  {
   "cell_type": "code",
   "execution_count": 83,
   "metadata": {
    "collapsed": true
   },
   "outputs": [],
   "source": [
    "tensor = [0, 1, 2, 3]\n",
    "mask = np.array([True, False, True, False])"
   ]
  },
  {
   "cell_type": "code",
   "execution_count": 86,
   "metadata": {},
   "outputs": [],
   "source": [
    "tensor = [[1, 2], [3, 4], [5, 6]]\n",
    "mask = np.array([True, False, True])"
   ]
  },
  {
   "cell_type": "code",
   "execution_count": 87,
   "metadata": {},
   "outputs": [
    {
     "data": {
      "text/plain": [
       "array([[1, 2],\n",
       "       [5, 6]])"
      ]
     },
     "execution_count": 87,
     "metadata": {},
     "output_type": "execute_result"
    }
   ],
   "source": [
    "sess.run(tf.boolean_mask(tensor, mask))"
   ]
  },
  {
   "cell_type": "code",
   "execution_count": 88,
   "metadata": {},
   "outputs": [
    {
     "data": {
      "text/plain": [
       "array([[1, 2],\n",
       "       [5, 6]])"
      ]
     },
     "execution_count": 88,
     "metadata": {},
     "output_type": "execute_result"
    }
   ],
   "source": [
    "sess.run(tf.gather_nd(tensor,tf.where([True, False, True])))"
   ]
  },
  {
   "cell_type": "markdown",
   "metadata": {},
   "source": [
    "# tf.nn 网络"
   ]
  },
  {
   "cell_type": "markdown",
   "metadata": {},
   "source": [
    "## dropout"
   ]
  },
  {
   "cell_type": "code",
   "execution_count": 62,
   "metadata": {
    "scrolled": true
   },
   "outputs": [
    {
     "name": "stdout",
     "output_type": "stream",
     "text": [
      "[[0. 2. 2. 2. 2. 2. 0. 2. 2. 2.]\n",
      " [0. 2. 2. 2. 2. 2. 0. 2. 2. 2.]\n",
      " [0. 2. 2. 2. 2. 2. 0. 2. 2. 2.]\n",
      " [0. 2. 2. 2. 2. 2. 0. 2. 2. 2.]\n",
      " [0. 2. 2. 2. 2. 2. 0. 2. 2. 2.]\n",
      " [0. 2. 2. 2. 2. 2. 0. 2. 2. 2.]\n",
      " [0. 2. 2. 2. 2. 2. 0. 2. 2. 2.]\n",
      " [0. 2. 2. 2. 2. 2. 0. 2. 2. 2.]\n",
      " [0. 2. 2. 2. 2. 2. 0. 2. 2. 2.]\n",
      " [0. 2. 2. 2. 2. 2. 0. 2. 2. 2.]]\n"
     ]
    }
   ],
   "source": [
    "dropout = tf.placeholder(tf.float32)\n",
    "x = tf.Variable(tf.ones([10, 10]))\n",
    "noise_shape=tf.Variable([1,10])\n",
    "y = tf.nn.dropout(x, dropout,noise_shape=noise_shape)\n",
    "init = tf.initialize_all_variables()\n",
    "sess.run(init)\n",
    "print(sess.run(y, feed_dict = {dropout: 0.5}))"
   ]
  },
  {
   "cell_type": "markdown",
   "metadata": {},
   "source": [
    "## embedding_lookup\n",
    "\n",
    "tf.nn.embedding_lookup函数的用法主要是选取一个张量里面索引对应的元素。tf.nn.embedding_lookup（tensor, id）:tensor就是输入张量，id就是张量对应的索引，其他的参数不介绍。\n"
   ]
  },
  {
   "cell_type": "code",
   "execution_count": 13,
   "metadata": {
    "scrolled": true
   },
   "outputs": [
    {
     "name": "stdout",
     "output_type": "stream",
     "text": [
      "[[0.36019306 0.64303964 0.25078819]\n",
      " [0.6460768  0.21576261 0.06256391]] \n",
      "[[0.82230805 0.64721447 0.07449068]\n",
      " [0.36019306 0.64303964 0.25078819]\n",
      " [0.82323789 0.92840628 0.30259997]\n",
      " [0.6460768  0.21576261 0.06256391]\n",
      " [0.46624078 0.17069981 0.3956121 ]\n",
      " [0.64055378 0.48916749 0.96522839]\n",
      " [0.24365901 0.90473747 0.17843189]\n",
      " [0.48960301 0.75474616 0.37183785]\n",
      " [0.88221148 0.63116148 0.8655069 ]\n",
      " [0.94918313 0.9529611  0.67089635]]\n"
     ]
    }
   ],
   "source": [
    "c = tf.constant(np.random.random([10,3]))\n",
    "b = tf.nn.embedding_lookup(c, tf.constant([1, 3]))\n",
    "init = tf.initialize_all_variables()\n",
    "sess.run(init)\n",
    "print(\"{} \\n{}\".format(sess.run(b),sess.run(c)))"
   ]
  },
  {
   "cell_type": "code",
   "execution_count": null,
   "metadata": {
    "collapsed": true
   },
   "outputs": [],
   "source": [
    "tf.nn.sparse_softmax_cross_entropy_with_logits"
   ]
  },
  {
   "cell_type": "code",
   "execution_count": 14,
   "metadata": {},
   "outputs": [
    {
     "name": "stdout",
     "output_type": "stream",
     "text": [
      "[[0.09003057 0.24472848 0.66524094]\n",
      " [0.09003057 0.24472848 0.66524094]\n",
      " [0.09003057 0.24472848 0.66524094]] \n",
      "[0.407606   0.407606   0.40760598] \n",
      "[0.40760595 0.40760595 0.40760595]\n"
     ]
    }
   ],
   "source": [
    "\n",
    "#our NN's output  \n",
    "logits=tf.constant([[1.0,2.0,3.0],[1.0,2.0,3.0],[1.0,2.0,3.0]])  \n",
    "#step1:do softmax  \n",
    "y=tf.nn.softmax(logits)  \n",
    "#true label \n",
    "#注意这里标签必须是浮点数,不然在后面计算tf.multiply时就会因为类型不匹配tf_log的float32数据类型而出错\n",
    "y_=tf.constant([[0,0,1.0],[0,0,1.0],[0,0,1.0]])#这个是稀疏的标签\n",
    "#step2:do log  \n",
    "tf_log=tf.log(y)\n",
    "#step3:do mult  \n",
    "pixel_wise_mult=tf.multiply(y_,tf_log)\n",
    "#step4:do cross_entropy  \n",
    "cross_entropy = -tf.reduce_sum(pixel_wise_mult,-1)  \n",
    " \n",
    "#do cross_entropy just two step  \n",
    "#将标签稠密化\n",
    "dense_y=tf.argmax(y_,1)\n",
    "entropy=tf.nn.sparse_softmax_cross_entropy_with_logits(labels=dense_y,logits=logits)\n",
    "\n",
    "\n",
    "sess.run(tf.global_variables_initializer())\n",
    "\n",
    "y,cross_entropy,entropy=sess.run([y,cross_entropy,entropy])\n",
    "\n",
    "print(\"{} \\n{} \\n{}\".format(y,cross_entropy,entropy))\n"
   ]
  },
  {
   "cell_type": "code",
   "execution_count": 13,
   "metadata": {},
   "outputs": [
    {
     "data": {
      "text/plain": [
       "1.22281785"
      ]
     },
     "execution_count": 13,
     "metadata": {},
     "output_type": "execute_result"
    }
   ],
   "source": [
    "np.sum(np.array([0.40760595, 0.40760595, 0.40760595]))"
   ]
  },
  {
   "cell_type": "markdown",
   "metadata": {},
   "source": [
    "##  tf.nn.top_k\n",
    "\n",
    "这个函数的作用是返回 input 中每行最大的 k 个数，并且返回它们所在位置的索引。\n",
    "很好的保持了维度形状"
   ]
  },
  {
   "cell_type": "code",
   "execution_count": 75,
   "metadata": {},
   "outputs": [
    {
     "name": "stdout",
     "output_type": "stream",
     "text": [
      "[[[0.83758426 0.73481089 0.23784544]\n",
      "  [0.38164253 0.78497102 0.27516122]\n",
      "  [0.47614729 0.01084619 0.69514836]\n",
      "  [0.98919194 0.71000713 0.08208859]]\n",
      "\n",
      " [[0.22330944 0.01240893 0.28557665]\n",
      "  [0.56289929 0.25884116 0.41224611]\n",
      "  [0.15906589 0.70470137 0.30019256]\n",
      "  [0.43172659 0.22737218 0.12318788]]\n",
      "\n",
      " [[0.64163266 0.9591794  0.109303  ]\n",
      "  [0.92233473 0.43185505 0.94423909]\n",
      "  [0.90869267 0.86618719 0.60910166]\n",
      "  [0.63089287 0.38316565 0.03596014]]]\n",
      "TopKV2(values=array([[[0.83758426, 0.73481089],\n",
      "        [0.78497102, 0.38164253],\n",
      "        [0.69514836, 0.47614729],\n",
      "        [0.98919194, 0.71000713]],\n",
      "\n",
      "       [[0.28557665, 0.22330944],\n",
      "        [0.56289929, 0.41224611],\n",
      "        [0.70470137, 0.30019256],\n",
      "        [0.43172659, 0.22737218]],\n",
      "\n",
      "       [[0.9591794 , 0.64163266],\n",
      "        [0.94423909, 0.92233473],\n",
      "        [0.90869267, 0.86618719],\n",
      "        [0.63089287, 0.38316565]]]), indices=array([[[0, 1],\n",
      "        [1, 0],\n",
      "        [2, 0],\n",
      "        [0, 1]],\n",
      "\n",
      "       [[2, 0],\n",
      "        [0, 2],\n",
      "        [1, 2],\n",
      "        [0, 1]],\n",
      "\n",
      "       [[1, 0],\n",
      "        [2, 0],\n",
      "        [0, 1],\n",
      "        [0, 1]]]))\n"
     ]
    }
   ],
   "source": [
    "input = tf.constant(np.random.rand(3,4,3))\n",
    "k = 2\n",
    "output = tf.nn.top_k(input, k)\n",
    "with tf.Session() as sess:\n",
    "    print(sess.run(input))\n",
    "    print(sess.run(output))"
   ]
  }
 ],
 "metadata": {
  "kernelspec": {
   "display_name": "Python 3",
   "language": "python",
   "name": "python3"
  },
  "language_info": {
   "codemirror_mode": {
    "name": "ipython",
    "version": 3
   },
   "file_extension": ".py",
   "mimetype": "text/x-python",
   "name": "python",
   "nbconvert_exporter": "python",
   "pygments_lexer": "ipython3",
   "version": "3.6.4"
  }
 },
 "nbformat": 4,
 "nbformat_minor": 2
}
