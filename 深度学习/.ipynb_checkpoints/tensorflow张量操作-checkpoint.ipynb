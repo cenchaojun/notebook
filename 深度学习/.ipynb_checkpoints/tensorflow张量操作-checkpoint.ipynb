{
 "cells": [
  {
   "cell_type": "code",
   "execution_count": 41,
   "metadata": {
    "collapsed": true
   },
   "outputs": [],
   "source": [
    "import tensorflow as tf\n",
    "sess = tf.Session()"
   ]
  },
  {
   "cell_type": "markdown",
   "metadata": {},
   "source": [
    "# tf 张量操作"
   ]
  },
  {
   "cell_type": "markdown",
   "metadata": {},
   "source": [
    "## tf.transpose"
   ]
  },
  {
   "cell_type": "code",
   "execution_count": 67,
   "metadata": {
    "scrolled": true
   },
   "outputs": [
    {
     "name": "stdout",
     "output_type": "stream",
     "text": [
      "x:\n",
      "[[1 3 2]\n",
      " [0 0 0]\n",
      " [1 3 2]]\n",
      " y:\n",
      "[[1 3 2]\n",
      " [0 0 0]\n",
      " [1 3 2]]\n"
     ]
    }
   ],
   "source": [
    "x = tf.Variable([[1,3,2], [0,0,0], [1,3,2]], name='x')\n",
    "y = tf.transpose(x,(0,1))\n",
    "sess.run(tf.global_variables_initializer())\n",
    "print(\"x:\\n{}\\n y:\\n{}\".format(sess.run(x),sess.run(y)))"
   ]
  },
  {
   "cell_type": "markdown",
   "metadata": {},
   "source": [
    "## tf.stack"
   ]
  },
  {
   "cell_type": "code",
   "execution_count": 73,
   "metadata": {},
   "outputs": [
    {
     "data": {
      "text/plain": [
       "<tf.Tensor 'stack_7:0' shape=(3, 2) dtype=int32>"
      ]
     },
     "execution_count": 73,
     "metadata": {},
     "output_type": "execute_result"
    }
   ],
   "source": [
    "tf.stack([[1,2,1],[2,3,2]],-1)\n",
    "#sess.run(tf.stack([1,2,1]))"
   ]
  },
  {
   "cell_type": "markdown",
   "metadata": {},
   "source": [
    "## tf.tile"
   ]
  },
  {
   "cell_type": "code",
   "execution_count": 77,
   "metadata": {},
   "outputs": [
    {
     "data": {
      "text/plain": [
       "<tf.Tensor 'Tile_3:0' shape=(2, 4) dtype=float32>"
      ]
     },
     "execution_count": 77,
     "metadata": {},
     "output_type": "execute_result"
    }
   ],
   "source": [
    "x = tf.Variable(tf.ones([2, 2]))\n",
    "tf.tile(x,[1,2])"
   ]
  },
  {
   "cell_type": "code",
   "execution_count": 31,
   "metadata": {
    "collapsed": true
   },
   "outputs": [],
   "source": [
    "x = tf.Variable([[1,3,2], [0,0,0], [1,3,2]], name='x')"
   ]
  },
  {
   "cell_type": "code",
   "execution_count": 32,
   "metadata": {},
   "outputs": [],
   "source": [
    "a=tf.reduce_any(tf.not_equal(x,0),axis=-1,keep_dims=True)\n",
    "b=tf.cast(a,tf.int32)"
   ]
  },
  {
   "cell_type": "code",
   "execution_count": 33,
   "metadata": {},
   "outputs": [
    {
     "name": "stdout",
     "output_type": "stream",
     "text": [
      "[[1 3 2]\n",
      " [0 0 0]\n",
      " [1 3 2]]\n"
     ]
    }
   ],
   "source": [
    "sess.run(tf.global_variables_initializer())\n",
    "print(sess.run(x*b))"
   ]
  },
  {
   "cell_type": "code",
   "execution_count": 11,
   "metadata": {
    "scrolled": true
   },
   "outputs": [
    {
     "data": {
      "text/plain": [
       "<tf.Tensor 'Any_8:0' shape=(2, 1) dtype=bool>"
      ]
     },
     "execution_count": 11,
     "metadata": {},
     "output_type": "execute_result"
    }
   ],
   "source": [
    "x = tf.constant([[True,  True], [False, False]])\n",
    "tf.reduce_any(x, keep_dims=True)  # True\n",
    "tf.reduce_any(x, axis=0, keep_dims=True)\n",
    "tf.reduce_any(x, axis=1, keep_dims=True)"
   ]
  },
  {
   "cell_type": "code",
   "execution_count": 15,
   "metadata": {
    "scrolled": true
   },
   "outputs": [
    {
     "name": "stdout",
     "output_type": "stream",
     "text": [
      "True\n"
     ]
    }
   ],
   "source": [
    "print(sess.run(tf.reduce_any(x, keep_dims=False)))  # True"
   ]
  },
  {
   "cell_type": "code",
   "execution_count": 13,
   "metadata": {
    "scrolled": true
   },
   "outputs": [
    {
     "name": "stdout",
     "output_type": "stream",
     "text": [
      "[[ True]\n",
      " [False]]\n"
     ]
    }
   ],
   "source": [
    "print(sess.run(tf.reduce_any(x, axis=1, keep_dims=True)))"
   ]
  },
  {
   "cell_type": "markdown",
   "metadata": {},
   "source": [
    "# tf.nn 网络"
   ]
  },
  {
   "cell_type": "markdown",
   "metadata": {},
   "source": [
    "## dropout"
   ]
  },
  {
   "cell_type": "code",
   "execution_count": 62,
   "metadata": {},
   "outputs": [
    {
     "name": "stdout",
     "output_type": "stream",
     "text": [
      "[[0. 2. 2. 2. 2. 2. 0. 2. 2. 2.]\n",
      " [0. 2. 2. 2. 2. 2. 0. 2. 2. 2.]\n",
      " [0. 2. 2. 2. 2. 2. 0. 2. 2. 2.]\n",
      " [0. 2. 2. 2. 2. 2. 0. 2. 2. 2.]\n",
      " [0. 2. 2. 2. 2. 2. 0. 2. 2. 2.]\n",
      " [0. 2. 2. 2. 2. 2. 0. 2. 2. 2.]\n",
      " [0. 2. 2. 2. 2. 2. 0. 2. 2. 2.]\n",
      " [0. 2. 2. 2. 2. 2. 0. 2. 2. 2.]\n",
      " [0. 2. 2. 2. 2. 2. 0. 2. 2. 2.]\n",
      " [0. 2. 2. 2. 2. 2. 0. 2. 2. 2.]]\n"
     ]
    }
   ],
   "source": [
    "dropout = tf.placeholder(tf.float32)\n",
    "x = tf.Variable(tf.ones([10, 10]))\n",
    "noise_shape=tf.Variable([1,10])\n",
    "y = tf.nn.dropout(x, dropout,noise_shape=noise_shape)\n",
    "init = tf.initialize_all_variables()\n",
    "sess.run(init)\n",
    "print(sess.run(y, feed_dict = {dropout: 0.5}))"
   ]
  }
 ],
 "metadata": {
  "kernelspec": {
   "display_name": "Python 3",
   "language": "python",
   "name": "python3"
  },
  "language_info": {
   "codemirror_mode": {
    "name": "ipython",
    "version": 3
   },
   "file_extension": ".py",
   "mimetype": "text/x-python",
   "name": "python",
   "nbconvert_exporter": "python",
   "pygments_lexer": "ipython3",
   "version": "3.6.4"
  }
 },
 "nbformat": 4,
 "nbformat_minor": 2
}
